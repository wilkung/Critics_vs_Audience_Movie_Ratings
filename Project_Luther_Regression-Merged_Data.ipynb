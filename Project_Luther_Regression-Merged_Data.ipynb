{
 "cells": [
  {
   "cell_type": "code",
   "execution_count": 309,
   "metadata": {
    "collapsed": true
   },
   "outputs": [],
   "source": [
    "# TODO\n",
    "# Add more predictors like director and runtime\n",
    "# feature transformation, polynomials, etc.\n",
    "# normalize features\n",
    "# Director with past ratings spread\n",
    "# Get summary stats of regression\n",
    "# residual plot\n",
    "# plot resids vs. best factor to see if there is heteroskedasticity\n",
    "# histogram of features to see if transformations necessary\n",
    "# Regularized Regresssion\n"
   ]
  },
  {
   "cell_type": "code",
   "execution_count": 352,
   "metadata": {
    "collapsed": false
   },
   "outputs": [],
   "source": [
    "import pandas as pd\n",
    "import numpy as np\n",
    "from patsy import dmatrices"
   ]
  },
  {
   "cell_type": "code",
   "execution_count": 353,
   "metadata": {
    "collapsed": false
   },
   "outputs": [
    {
     "data": {
      "text/plain": [
       "(18011, 7)"
      ]
     },
     "execution_count": 353,
     "metadata": {},
     "output_type": "execute_result"
    }
   ],
   "source": [
    "data = pd.read_csv(\"mergedmoviesdata.csv\")\n",
    "data.shape"
   ]
  },
  {
   "cell_type": "code",
   "execution_count": 354,
   "metadata": {
    "collapsed": false
   },
   "outputs": [
    {
     "data": {
      "text/html": [
       "<div>\n",
       "<table border=\"1\" class=\"dataframe\">\n",
       "  <thead>\n",
       "    <tr style=\"text-align: right;\">\n",
       "      <th></th>\n",
       "      <th>Unnamed: 0</th>\n",
       "      <th>ID</th>\n",
       "      <th>Genre</th>\n",
       "      <th>Rating</th>\n",
       "      <th>Review</th>\n",
       "      <th>Metascore</th>\n",
       "      <th>Budget</th>\n",
       "    </tr>\n",
       "  </thead>\n",
       "  <tbody>\n",
       "    <tr>\n",
       "      <th>0</th>\n",
       "      <td>0</td>\n",
       "      <td>tt2346170</td>\n",
       "      <td>Horror</td>\n",
       "      <td>NaN</td>\n",
       "      <td>5.6</td>\n",
       "      <td>NaN</td>\n",
       "      <td>30000.0</td>\n",
       "    </tr>\n",
       "    <tr>\n",
       "      <th>1</th>\n",
       "      <td>1</td>\n",
       "      <td>tt3120962</td>\n",
       "      <td>Biography, Comedy, Fantasy</td>\n",
       "      <td>NaN</td>\n",
       "      <td>NaN</td>\n",
       "      <td>NaN</td>\n",
       "      <td>NaN</td>\n",
       "    </tr>\n",
       "    <tr>\n",
       "      <th>2</th>\n",
       "      <td>2</td>\n",
       "      <td>tt3184026</td>\n",
       "      <td>Drama, Thriller</td>\n",
       "      <td>NaN</td>\n",
       "      <td>4.7</td>\n",
       "      <td>NaN</td>\n",
       "      <td>NaN</td>\n",
       "    </tr>\n",
       "    <tr>\n",
       "      <th>3</th>\n",
       "      <td>3</td>\n",
       "      <td>tt2332503</td>\n",
       "      <td>Romance</td>\n",
       "      <td>NaN</td>\n",
       "      <td>5.2</td>\n",
       "      <td>NaN</td>\n",
       "      <td>NaN</td>\n",
       "    </tr>\n",
       "    <tr>\n",
       "      <th>4</th>\n",
       "      <td>4</td>\n",
       "      <td>tt1638308</td>\n",
       "      <td>Family</td>\n",
       "      <td>NaN</td>\n",
       "      <td>7.7</td>\n",
       "      <td>NaN</td>\n",
       "      <td>NaN</td>\n",
       "    </tr>\n",
       "    <tr>\n",
       "      <th>5</th>\n",
       "      <td>5</td>\n",
       "      <td>tt2787556</td>\n",
       "      <td>Drama</td>\n",
       "      <td>NaN</td>\n",
       "      <td>5.8</td>\n",
       "      <td>NaN</td>\n",
       "      <td>NaN</td>\n",
       "    </tr>\n",
       "    <tr>\n",
       "      <th>6</th>\n",
       "      <td>6</td>\n",
       "      <td>tt2777190</td>\n",
       "      <td>Drama, Family, Fantasy</td>\n",
       "      <td>NaN</td>\n",
       "      <td>6.4</td>\n",
       "      <td>NaN</td>\n",
       "      <td>1000.0</td>\n",
       "    </tr>\n",
       "    <tr>\n",
       "      <th>7</th>\n",
       "      <td>7</td>\n",
       "      <td>tt2794792</td>\n",
       "      <td>Comedy</td>\n",
       "      <td>NaN</td>\n",
       "      <td>3.5</td>\n",
       "      <td>NaN</td>\n",
       "      <td>NaN</td>\n",
       "    </tr>\n",
       "    <tr>\n",
       "      <th>8</th>\n",
       "      <td>8</td>\n",
       "      <td>tt2771006</td>\n",
       "      <td>Action, Comedy, Horror</td>\n",
       "      <td>NaN</td>\n",
       "      <td>NaN</td>\n",
       "      <td>NaN</td>\n",
       "      <td>50000.0</td>\n",
       "    </tr>\n",
       "    <tr>\n",
       "      <th>9</th>\n",
       "      <td>9</td>\n",
       "      <td>tt2395385</td>\n",
       "      <td>Sci-Fi, Thriller</td>\n",
       "      <td>NaN</td>\n",
       "      <td>5.5</td>\n",
       "      <td>60.0</td>\n",
       "      <td>NaN</td>\n",
       "    </tr>\n",
       "  </tbody>\n",
       "</table>\n",
       "</div>"
      ],
      "text/plain": [
       "   Unnamed: 0         ID                       Genre Rating Review Metascore  \\\n",
       "0           0  tt2346170                      Horror    NaN    5.6       NaN   \n",
       "1           1  tt3120962  Biography, Comedy, Fantasy    NaN    NaN       NaN   \n",
       "2           2  tt3184026             Drama, Thriller    NaN    4.7       NaN   \n",
       "3           3  tt2332503                     Romance    NaN    5.2       NaN   \n",
       "4           4  tt1638308                      Family    NaN    7.7       NaN   \n",
       "5           5  tt2787556                       Drama    NaN    5.8       NaN   \n",
       "6           6  tt2777190      Drama, Family, Fantasy    NaN    6.4       NaN   \n",
       "7           7  tt2794792                      Comedy    NaN    3.5       NaN   \n",
       "8           8  tt2771006      Action, Comedy, Horror    NaN    NaN       NaN   \n",
       "9           9  tt2395385            Sci-Fi, Thriller    NaN    5.5      60.0   \n",
       "\n",
       "    Budget  \n",
       "0  30000.0  \n",
       "1      NaN  \n",
       "2      NaN  \n",
       "3      NaN  \n",
       "4      NaN  \n",
       "5      NaN  \n",
       "6   1000.0  \n",
       "7      NaN  \n",
       "8  50000.0  \n",
       "9      NaN  "
      ]
     },
     "execution_count": 354,
     "metadata": {},
     "output_type": "execute_result"
    }
   ],
   "source": [
    "data.head(10)"
   ]
  },
  {
   "cell_type": "code",
   "execution_count": 355,
   "metadata": {
    "collapsed": true
   },
   "outputs": [],
   "source": [
    "data = data.drop('Unnamed: 0', 1)"
   ]
  },
  {
   "cell_type": "code",
   "execution_count": 357,
   "metadata": {
    "collapsed": false
   },
   "outputs": [
    {
     "data": {
      "text/plain": [
       "ID           object\n",
       "Genre        object\n",
       "Rating       object\n",
       "Review       object\n",
       "Metascore    object\n",
       "Budget       object\n",
       "dtype: object"
      ]
     },
     "execution_count": 357,
     "metadata": {},
     "output_type": "execute_result"
    }
   ],
   "source": [
    "data.dtypes"
   ]
  },
  {
   "cell_type": "code",
   "execution_count": 365,
   "metadata": {
    "collapsed": false
   },
   "outputs": [
    {
     "data": {
      "text/html": [
       "<div>\n",
       "<table border=\"1\" class=\"dataframe\">\n",
       "  <thead>\n",
       "    <tr style=\"text-align: right;\">\n",
       "      <th></th>\n",
       "      <th>ID</th>\n",
       "      <th>Genre</th>\n",
       "      <th>Rating</th>\n",
       "      <th>Review</th>\n",
       "      <th>Metascore</th>\n",
       "      <th>Budget</th>\n",
       "    </tr>\n",
       "  </thead>\n",
       "  <tbody>\n",
       "    <tr>\n",
       "      <th>34</th>\n",
       "      <td>tt2024544</td>\n",
       "      <td>Biography, Drama, History</td>\n",
       "      <td>R</td>\n",
       "      <td>8.1</td>\n",
       "      <td>97.0</td>\n",
       "      <td>20000000.0</td>\n",
       "    </tr>\n",
       "    <tr>\n",
       "      <th>56</th>\n",
       "      <td>tt1272878</td>\n",
       "      <td>Action, Comedy, Crime, Drama, Thriller</td>\n",
       "      <td>R</td>\n",
       "      <td>6.8</td>\n",
       "      <td>55.0</td>\n",
       "      <td>61000000.0</td>\n",
       "    </tr>\n",
       "    <tr>\n",
       "      <th>68</th>\n",
       "      <td>tt1711425</td>\n",
       "      <td>Comedy</td>\n",
       "      <td>R</td>\n",
       "      <td>5.9</td>\n",
       "      <td>34.0</td>\n",
       "      <td>13000000.0</td>\n",
       "    </tr>\n",
       "    <tr>\n",
       "      <th>100</th>\n",
       "      <td>tt0453562</td>\n",
       "      <td>Biography, Drama, Sport</td>\n",
       "      <td>PG-13</td>\n",
       "      <td>7.5</td>\n",
       "      <td>62.0</td>\n",
       "      <td>40000000.0</td>\n",
       "    </tr>\n",
       "    <tr>\n",
       "      <th>103</th>\n",
       "      <td>tt1335975</td>\n",
       "      <td>Action, Adventure, Drama, Fantasy</td>\n",
       "      <td>PG-13</td>\n",
       "      <td>6.3</td>\n",
       "      <td>28.0</td>\n",
       "      <td>175000000.0</td>\n",
       "    </tr>\n",
       "  </tbody>\n",
       "</table>\n",
       "</div>"
      ],
      "text/plain": [
       "            ID                                   Genre Rating Review  \\\n",
       "34   tt2024544               Biography, Drama, History      R    8.1   \n",
       "56   tt1272878  Action, Comedy, Crime, Drama, Thriller      R    6.8   \n",
       "68   tt1711425                                  Comedy      R    5.9   \n",
       "100  tt0453562                 Biography, Drama, Sport  PG-13    7.5   \n",
       "103  tt1335975       Action, Adventure, Drama, Fantasy  PG-13    6.3   \n",
       "\n",
       "    Metascore       Budget  \n",
       "34       97.0   20000000.0  \n",
       "56       55.0   61000000.0  \n",
       "68       34.0   13000000.0  \n",
       "100      62.0   40000000.0  \n",
       "103      28.0  175000000.0  "
      ]
     },
     "execution_count": 365,
     "metadata": {},
     "output_type": "execute_result"
    }
   ],
   "source": [
    "data.head()"
   ]
  },
  {
   "cell_type": "code",
   "execution_count": 366,
   "metadata": {
    "collapsed": false
   },
   "outputs": [
    {
     "data": {
      "text/plain": [
       "False"
      ]
     },
     "execution_count": 366,
     "metadata": {},
     "output_type": "execute_result"
    }
   ],
   "source": [
    "data.isnull().any().any()"
   ]
  },
  {
   "cell_type": "code",
   "execution_count": 367,
   "metadata": {
    "collapsed": false
   },
   "outputs": [],
   "source": [
    "data = data.dropna()"
   ]
  },
  {
   "cell_type": "code",
   "execution_count": 368,
   "metadata": {
    "collapsed": false
   },
   "outputs": [
    {
     "data": {
      "text/plain": [
       "False"
      ]
     },
     "execution_count": 368,
     "metadata": {},
     "output_type": "execute_result"
    }
   ],
   "source": [
    "data.isnull().any().any()"
   ]
  },
  {
   "cell_type": "code",
   "execution_count": 369,
   "metadata": {
    "collapsed": false
   },
   "outputs": [
    {
     "data": {
      "text/plain": [
       "(367, 6)"
      ]
     },
     "execution_count": 369,
     "metadata": {},
     "output_type": "execute_result"
    }
   ],
   "source": [
    "data.shape"
   ]
  },
  {
   "cell_type": "code",
   "execution_count": 370,
   "metadata": {
    "collapsed": false
   },
   "outputs": [
    {
     "data": {
      "text/plain": [
       "['ID', 'Genre', 'Rating', 'Review', 'Metascore', 'Budget']"
      ]
     },
     "execution_count": 370,
     "metadata": {},
     "output_type": "execute_result"
    }
   ],
   "source": [
    "data.columns.values.tolist()"
   ]
  },
  {
   "cell_type": "code",
   "execution_count": 371,
   "metadata": {
    "collapsed": false
   },
   "outputs": [
    {
     "data": {
      "text/plain": [
       "ID           object\n",
       "Genre        object\n",
       "Rating       object\n",
       "Review       object\n",
       "Metascore    object\n",
       "Budget       object\n",
       "dtype: object"
      ]
     },
     "execution_count": 371,
     "metadata": {},
     "output_type": "execute_result"
    }
   ],
   "source": [
    "data.dtypes"
   ]
  },
  {
   "cell_type": "code",
   "execution_count": 374,
   "metadata": {
    "collapsed": false
   },
   "outputs": [
    {
     "data": {
      "text/plain": [
       "array(['8.1', '6.8', '5.9', '7.5', '6.3', '5.3', '5.1', '5.2', '5.7',\n",
       "       '6.2', '4.9', '6.9', '7.3', '6.4', '6.5', '6.7', '5.0', '5.5',\n",
       "       '7.4', '7.9', '6.0', '5.4', '8.0', '6.6', '7.2', '7.1', '7.7',\n",
       "       '5.8', '4.4', '6.1', '4.8', '4.2', '7.6', '7.0', '5.6', '7.8',\n",
       "       '4.6', '8.2', '3.5', '3.9', 'Review', '4.7', '4.0', '4.3', '8.7',\n",
       "       '2.8', '3.1', '8.6'], dtype=object)"
      ]
     },
     "execution_count": 374,
     "metadata": {},
     "output_type": "execute_result"
    }
   ],
   "source": [
    "pd.unique(data.Review.ravel())"
   ]
  },
  {
   "cell_type": "code",
   "execution_count": 375,
   "metadata": {
    "collapsed": false
   },
   "outputs": [],
   "source": [
    "data = data[data.Review != \"Review\"]"
   ]
  },
  {
   "cell_type": "code",
   "execution_count": 376,
   "metadata": {
    "collapsed": false
   },
   "outputs": [
    {
     "data": {
      "text/plain": [
       "array(['8.1', '6.8', '5.9', '7.5', '6.3', '5.3', '5.1', '5.2', '5.7',\n",
       "       '6.2', '4.9', '6.9', '7.3', '6.4', '6.5', '6.7', '5.0', '5.5',\n",
       "       '7.4', '7.9', '6.0', '5.4', '8.0', '6.6', '7.2', '7.1', '7.7',\n",
       "       '5.8', '4.4', '6.1', '4.8', '4.2', '7.6', '7.0', '5.6', '7.8',\n",
       "       '4.6', '8.2', '3.5', '3.9', '4.7', '4.0', '4.3', '8.7', '2.8',\n",
       "       '3.1', '8.6'], dtype=object)"
      ]
     },
     "execution_count": 376,
     "metadata": {},
     "output_type": "execute_result"
    }
   ],
   "source": [
    "pd.unique(data.Review.ravel())"
   ]
  },
  {
   "cell_type": "code",
   "execution_count": 377,
   "metadata": {
    "collapsed": false
   },
   "outputs": [
    {
     "name": "stdout",
     "output_type": "stream",
     "text": [
      "Biography\n",
      "Drama\n",
      "History\n",
      "Action\n",
      "Comedy\n",
      "Crime\n",
      "Drama\n",
      "Thriller\n",
      "Comedy\n",
      "Biography\n",
      "Drama\n",
      "Sport\n",
      "Action\n",
      "Adventure\n",
      "Drama\n",
      "Fantasy\n",
      "Action\n",
      "Crime\n",
      "Thriller\n",
      "Comedy\n",
      "Horror\n",
      "Drama\n",
      "Comedy\n",
      "Drama\n",
      "Romance\n",
      "Drama\n",
      "Romance\n",
      "Action\n",
      "Adventure\n",
      "Sci-Fi\n",
      "Action\n",
      "Adventure\n",
      "Drama\n",
      "Crime\n",
      "Drama\n",
      "Comedy\n",
      "Comedy\n",
      "Romance\n",
      "Drama\n",
      "Comedy\n",
      "Drama\n",
      "Comedy\n",
      "Horror\n",
      "Thriller\n",
      "Music\n",
      "Drama\n",
      "Fantasy\n",
      "Romance\n",
      "Drama\n",
      "Romance\n",
      "Crime\n",
      "Drama\n",
      "Thriller\n",
      "Drama\n",
      "Crime\n",
      "Drama\n",
      "Thriller\n",
      "Drama\n",
      "Music\n",
      "Biography\n",
      "Drama\n",
      "Thriller\n",
      "Drama\n",
      "Horror\n",
      "Drama\n",
      "Biography\n",
      "Drama\n",
      "Horror\n",
      "Sci-Fi\n",
      "Thriller\n",
      "Drama\n",
      "Comedy\n",
      "Drama\n",
      "Animation\n",
      "Comedy\n",
      "Family\n",
      "Biography\n",
      "Drama\n",
      "Romance\n",
      "Comedy\n",
      "Drama\n",
      "Romance\n",
      "Action\n",
      "Drama\n",
      "Sci-Fi\n",
      "Thriller\n",
      "Action\n",
      "Sci-Fi\n",
      "Action\n",
      "Thriller\n",
      "Animation\n",
      "Adventure\n",
      "Family\n",
      "Fantasy\n",
      "Action\n",
      "Mystery\n",
      "Thriller\n",
      "Animation\n",
      "Adventure\n",
      "Comedy\n",
      "Family\n",
      "Sci-Fi\n",
      "Horror\n",
      "Action\n",
      "Crime\n",
      "Thriller\n",
      "Comedy\n",
      "Crime\n",
      "Drama\n",
      "Animation\n",
      "Adventure\n",
      "Comedy\n",
      "Family\n",
      "Animation\n",
      "Adventure\n",
      "Comedy\n",
      "Family\n",
      "Fantasy\n",
      "Musical\n",
      "Action\n",
      "Adventure\n",
      "Sci-Fi\n",
      "Thriller\n",
      "Action\n",
      "Crime\n",
      "Drama\n",
      "Thriller\n",
      "Action\n",
      "Crime\n",
      "Thriller\n",
      "Drama\n",
      "Sci-Fi\n",
      "Thriller\n",
      "Comedy\n",
      "Comedy\n",
      "Sport\n",
      "Action\n",
      "Fantasy\n",
      "Horror\n",
      "Comedy\n",
      "Horror\n",
      "Drama\n",
      "Romance\n",
      "Sci-Fi\n",
      "Action\n",
      "Crime\n",
      "Drama\n",
      "Thriller\n",
      "Drama\n",
      "Thriller\n",
      "Drama\n",
      "Romance\n",
      "Comedy\n",
      "Crime\n",
      "Drama\n",
      "Music\n",
      "Horror\n",
      "Thriller\n",
      "Comedy\n",
      "Drama\n",
      "Action\n",
      "Adventure\n",
      "Sci-Fi\n",
      "Animation\n",
      "Adventure\n",
      "Drama\n",
      "Fantasy\n",
      "Musical\n",
      "Romance\n",
      "Adventure\n",
      "Fantasy\n",
      "Comedy\n",
      "Biography\n",
      "Drama\n",
      "Drama\n",
      "Action\n",
      "Comedy\n",
      "Crime\n",
      "Drama\n",
      "Action\n",
      "Mystery\n",
      "Thriller\n",
      "Comedy\n",
      "Biography\n",
      "Drama\n",
      "Animation\n",
      "Family\n",
      "Musical\n",
      "Comedy\n",
      "Crime\n",
      "Comedy\n",
      "Drama\n",
      "Action\n",
      "Crime\n",
      "Thriller\n",
      "Action\n",
      "Biography\n",
      "Drama\n",
      "Thriller\n",
      "War\n",
      "Biography\n",
      "Drama\n",
      "Action\n",
      "Crime\n",
      "Thriller\n",
      "Musical\n",
      "Horror\n",
      "Action\n",
      "Adventure\n",
      "Fantasy\n",
      "Sci-Fi\n",
      "Action\n",
      "Drama\n",
      "Biography\n",
      "Drama\n",
      "History\n",
      "Drama\n",
      "Comedy\n",
      "Adventure\n",
      "Drama\n",
      "Horror\n",
      "Crime\n",
      "Mystery\n",
      "Thriller\n",
      "Horror\n",
      "Thriller\n",
      "Action\n",
      "Adventure\n",
      "Mystery\n",
      "Sci-Fi\n",
      "Horror\n",
      "Action\n",
      "Drama\n",
      "Mystery\n",
      "Thriller\n",
      "Action\n",
      "Thriller\n",
      "Crime\n",
      "Drama\n",
      "Drama\n",
      "Horror\n",
      "Romance\n",
      "Crime\n",
      "Drama\n",
      "Thriller\n",
      "Adventure\n",
      "Family\n",
      "Fantasy\n",
      "Action\n",
      "Adventure\n",
      "Sci-Fi\n",
      "Action\n",
      "Comedy\n",
      "Crime\n",
      "Drama\n",
      "Drama\n",
      "Thriller\n",
      "Action\n",
      "Crime\n",
      "Thriller\n",
      "Drama\n",
      "History\n",
      "Mystery\n",
      "Thriller\n",
      "Action\n",
      "Comedy\n",
      "Crime\n",
      "Comedy\n",
      "Romance\n",
      "Adventure\n",
      "Family\n",
      "Fantasy\n",
      "History\n",
      "Thriller\n",
      "War\n",
      "Biography\n",
      "Drama\n",
      "Animation\n",
      "Adventure\n",
      "Comedy\n",
      "Family\n",
      "Comedy\n",
      "Drama\n",
      "Crime\n",
      "Drama\n",
      "Mystery\n",
      "Thriller\n",
      "Action\n",
      "Comedy\n",
      "Sci-Fi\n",
      "Action\n",
      "Comedy\n",
      "Crime\n",
      "Thriller\n",
      "Action\n",
      "Crime\n",
      "Drama\n",
      "Action\n",
      "Sci-Fi\n",
      "Thriller\n",
      "Crime\n",
      "Thriller\n",
      "Action\n",
      "Biography\n",
      "Drama\n",
      "Sport\n",
      "Drama\n",
      "Romance\n",
      "Thriller\n",
      "Drama\n",
      "Family\n",
      "History\n",
      "Romance\n",
      "Biography\n",
      "Comedy\n",
      "Drama\n",
      "History\n",
      "Music\n",
      "Comedy\n",
      "Crime\n",
      "Drama\n",
      "Thriller\n",
      "Animation\n",
      "Thriller\n",
      "Action\n",
      "Drama\n",
      "Thriller\n",
      "Action\n",
      "Drama\n",
      "Sci-Fi\n",
      "Thriller\n",
      "Action\n",
      "Drama\n",
      "War\n",
      "Drama\n",
      "Action\n",
      "Adventure\n",
      "Sci-Fi\n",
      "Drama\n",
      "Mystery\n",
      "Thriller\n",
      "Adventure\n",
      "Family\n",
      "Fantasy\n",
      "Comedy\n",
      "Drama\n",
      "Comedy\n",
      "Biography\n",
      "Crime\n",
      "Drama\n",
      "Crime\n",
      "Thriller\n",
      "Drama\n",
      "Thriller\n",
      "Horror\n",
      "Crime\n",
      "Drama\n",
      "Thriller\n",
      "Animation\n",
      "Adventure\n",
      "Comedy\n",
      "Family\n",
      "Fantasy\n",
      "Horror\n",
      "Mystery\n",
      "Thriller\n",
      "Drama\n",
      "Thriller\n",
      "Drama\n",
      "Romance\n",
      "Comedy\n",
      "Crime\n",
      "Thriller\n",
      "Biography\n",
      "Drama\n",
      "Thriller\n",
      "Biography\n",
      "Crime\n",
      "History\n",
      "Thriller\n",
      "Drama\n",
      "History\n",
      "Thriller\n",
      "Comedy\n",
      "Drama\n",
      "Romance\n",
      "Comedy\n",
      "Drama\n",
      "Horror\n",
      "Mystery\n",
      "Thriller\n",
      "Action\n",
      "Comedy\n",
      "Crime\n",
      "Adventure\n",
      "Romance\n",
      "Sci-Fi\n",
      "Comedy\n",
      "Action\n",
      "Adventure\n",
      "Sci-Fi\n",
      "Drama\n",
      "Romance\n",
      "Comedy\n",
      "Romance\n",
      "Comedy\n",
      "Drama\n",
      "Horror\n",
      "Thriller\n",
      "Action\n",
      "Crime\n",
      "Thriller\n",
      "Action\n",
      "Adventure\n",
      "Western\n",
      "Drama\n",
      "Romance\n",
      "Action\n",
      "Adventure\n",
      "Fantasy\n",
      "Mystery\n",
      "Romance\n",
      "Drama\n",
      "Mystery\n",
      "Horror\n",
      "Sci-Fi\n",
      "Thriller\n",
      "Biography\n",
      "Drama\n",
      "Romance\n",
      "War\n",
      "Horror\n",
      "Thriller\n",
      "Adventure\n",
      "Comedy\n",
      "Drama\n",
      "Fantasy\n",
      "Animation\n",
      "Adventure\n",
      "Comedy\n",
      "Family\n",
      "Fantasy\n",
      "Comedy\n",
      "Drama\n",
      "Romance\n",
      "Comedy\n",
      "Drama\n",
      "Romance\n",
      "Comedy\n",
      "Drama\n",
      "Biography\n",
      "Comedy\n",
      "Crime\n",
      "Drama\n",
      "Action\n",
      "Adventure\n",
      "Sci-Fi\n",
      "Thriller\n",
      "Action\n",
      "Comedy\n",
      "Sci-Fi\n",
      "Action\n",
      "Adventure\n",
      "Drama\n",
      "Family\n",
      "Drama\n",
      "Comedy\n",
      "Fantasy\n",
      "Action\n",
      "Adventure\n",
      "Fantasy\n",
      "Crime\n",
      "Drama\n",
      "Mystery\n",
      "Thriller\n",
      "Animation\n",
      "Adventure\n",
      "Comedy\n",
      "Family\n",
      "Sport\n",
      "Animation\n",
      "Adventure\n",
      "Family\n",
      "Comedy\n",
      "Horror\n",
      "Romance\n",
      "Action\n",
      "Adventure\n",
      "Comedy\n",
      "Crime\n",
      "Action\n",
      "Crime\n",
      "Thriller\n",
      "Comedy\n",
      "Romance\n",
      "Action\n",
      "Drama\n",
      "Thriller\n",
      "Action\n",
      "Adventure\n",
      "Horror\n",
      "Sci-Fi\n",
      "Thriller\n",
      "Comedy\n",
      "Horror\n",
      "Thriller\n",
      "Action\n",
      "Comedy\n",
      "Crime\n",
      "Action\n",
      "Drama\n",
      "Thriller\n",
      "Action\n",
      "Drama\n",
      "Fantasy\n",
      "War\n",
      "Drama\n",
      "Drama\n",
      "Comedy\n",
      "Horror\n",
      "Comedy\n",
      "Western\n",
      "Action\n",
      "Crime\n",
      "Drama\n",
      "Thriller\n",
      "Crime\n",
      "Drama\n",
      "Thriller\n",
      "Crime\n",
      "Drama\n",
      "Mystery\n",
      "Thriller\n",
      "Comedy\n",
      "Romance\n",
      "Comedy\n",
      "Family\n",
      "Drama\n",
      "Action\n",
      "Biography\n",
      "Drama\n",
      "History\n",
      "Thriller\n",
      "War\n",
      "Comedy\n",
      "Drama\n",
      "Romance\n",
      "Horror\n",
      "Mystery\n",
      "Comedy\n",
      "Drama\n",
      "Family\n",
      "Musical\n",
      "Drama\n",
      "Mystery\n",
      "Sci-Fi\n",
      "Action\n",
      "Sci-Fi\n",
      "Thriller\n",
      "Comedy\n",
      "Drama\n",
      "Romance\n",
      "Drama\n",
      "Music\n",
      "Biography\n",
      "Crime\n",
      "Drama\n",
      "Romance\n",
      "Animation\n",
      "Action\n",
      "Adventure\n",
      "Comedy\n",
      "Family\n",
      "Sci-Fi\n",
      "Comedy\n",
      "Drama\n",
      "Drama\n",
      "Comedy\n",
      "Romance\n",
      "Drama\n",
      "Action\n",
      "Crime\n",
      "Drama\n",
      "Thriller\n",
      "Drama\n",
      "Drama\n",
      "War\n",
      "Biography\n",
      "Comedy\n",
      "Drama\n",
      "Romance\n",
      "Action\n",
      "Adventure\n",
      "Sci-Fi\n",
      "Action\n",
      "Drama\n",
      "Sci-Fi\n",
      "Thriller\n",
      "Horror\n",
      "Thriller\n",
      "Biography\n",
      "Drama\n",
      "Horror\n",
      "Mystery\n",
      "Adventure\n",
      "Mystery\n",
      "Sci-Fi\n",
      "Drama\n",
      "Family\n",
      "Action\n",
      "Drama\n",
      "Fantasy\n",
      "Horror\n",
      "War\n",
      "Drama\n",
      "Sport\n",
      "Comedy\n",
      "Drama\n",
      "Thriller\n",
      "Adventure\n",
      "Family\n",
      "Sci-Fi\n",
      "Action\n",
      "Adventure\n",
      "Mystery\n",
      "Sci-Fi\n",
      "Comedy\n",
      "Drama\n",
      "Romance\n",
      "Drama\n",
      "Romance\n",
      "Romance\n",
      "Thriller\n",
      "Action\n",
      "Adventure\n",
      "Drama\n",
      "Action\n",
      "Adventure\n",
      "Action\n",
      "Drama\n",
      "War\n",
      "Drama\n",
      "Family\n",
      "Music\n",
      "Action\n",
      "Drama\n",
      "War\n",
      "Drama\n",
      "Crime\n",
      "Drama\n",
      "Action\n",
      "Adventure\n",
      "Sci-Fi\n",
      "Thriller\n",
      "Drama\n",
      "Mystery\n",
      "Thriller\n",
      "Action\n",
      "Adventure\n",
      "Sci-Fi\n",
      "Comedy\n",
      "Drama\n",
      "Drama\n",
      "Action\n",
      "Adventure\n",
      "Horror\n",
      "Comedy\n",
      "Crime\n",
      "Animation\n",
      "Action\n",
      "Adventure\n",
      "Comedy\n",
      "Family\n",
      "Fantasy\n",
      "Action\n",
      "Fantasy\n",
      "Sci-Fi\n",
      "Drama\n",
      "Music\n",
      "Romance\n",
      "Action\n",
      "Crime\n",
      "Thriller\n",
      "Comedy\n",
      "Drama\n",
      "Comedy\n",
      "Crime\n",
      "Drama\n",
      "Mystery\n",
      "Romance\n",
      "Adventure\n",
      "Drama\n",
      "Sci-Fi\n",
      "Action\n",
      "Horror\n",
      "Thriller\n",
      "Action\n",
      "Thriller\n",
      "Adventure\n",
      "Fantasy\n",
      "Musical\n",
      "Horror\n",
      "Mystery\n",
      "Thriller\n",
      "Action\n",
      "Thriller\n",
      "Biography\n",
      "Drama\n",
      "Music\n",
      "Comedy\n",
      "Horror\n",
      "Action\n",
      "Thriller\n",
      "Biography\n",
      "Crime\n",
      "Drama\n",
      "Mystery\n",
      "Thriller\n",
      "Action\n",
      "Adventure\n",
      "Comedy\n",
      "Crime\n",
      "Thriller\n",
      "Action\n",
      "Sci-Fi\n",
      "Thriller\n",
      "Comedy\n",
      "Comedy\n",
      "Drama\n",
      "Horror\n",
      "Romance\n",
      "Thriller\n",
      "Action\n",
      "Sci-Fi\n",
      "Thriller\n",
      "Action\n",
      "Adventure\n",
      "Family\n",
      "Fantasy\n",
      "Romance\n",
      "Drama\n",
      "Comedy\n",
      "Drama\n",
      "Biography\n",
      "Drama\n",
      "Sport\n",
      "Comedy\n",
      "Animation\n",
      "Adventure\n",
      "Comedy\n",
      "Family\n",
      "Sci-Fi\n",
      "Adventure\n",
      "Comedy\n",
      "Crime\n",
      "Family\n",
      "Musical\n",
      "Action\n",
      "Crime\n",
      "Drama\n",
      "Thriller\n",
      "Comedy\n",
      "Adventure\n",
      "Comedy\n",
      "Family\n",
      "Fantasy\n",
      "Action\n",
      "Crime\n",
      "Mystery\n",
      "Thriller\n",
      "Crime\n",
      "Thriller\n",
      "Action\n",
      "Adventure\n",
      "Drama\n",
      "Action\n",
      "Mystery\n",
      "Thriller\n",
      "Horror\n",
      "Comedy\n",
      "Family\n",
      "Horror\n",
      "Thriller\n",
      "Animation\n",
      "Adventure\n",
      "Comedy\n",
      "Family\n",
      "Animation\n",
      "Adventure\n",
      "Comedy\n",
      "Family\n",
      "Action\n",
      "Comedy\n",
      "Crime\n",
      "Drama\n",
      "Action\n",
      "Adventure\n",
      "Drama\n",
      "History\n",
      "Romance\n",
      "Drama\n",
      "Action\n",
      "Crime\n",
      "Drama\n",
      "Action\n",
      "Comedy\n",
      "Action\n",
      "Sci-Fi\n",
      "Thriller\n",
      "Biography\n",
      "Drama\n",
      "Comedy\n",
      "Drama\n",
      "Music\n",
      "Action\n",
      "Crime\n",
      "Drama\n",
      "Thriller\n",
      "Biography\n",
      "Drama\n",
      "History\n",
      "Action\n",
      "Adventure\n",
      "Fantasy\n",
      "Comedy\n",
      "Romance\n",
      "Crime\n",
      "Thriller\n",
      "Action\n",
      "Crime\n",
      "Thriller\n",
      "Biography\n",
      "Drama\n",
      "Drama\n",
      "Music\n",
      "Comedy\n",
      "Drama\n",
      "Drama\n",
      "Action\n",
      "Thriller\n",
      "Comedy\n",
      "Action\n",
      "Adventure\n",
      "Comedy\n",
      "Fantasy\n",
      "Sci-Fi\n",
      "Comedy\n",
      "Romance\n",
      "Action\n",
      "Adventure\n",
      "Fantasy\n",
      "Sci-Fi\n",
      "Drama\n",
      "Romance\n",
      "Animation\n",
      "Adventure\n",
      "Comedy\n",
      "Family\n",
      "Fantasy\n",
      "Romance\n",
      "Animation\n",
      "Adventure\n",
      "Comedy\n",
      "Family\n",
      "Fantasy\n",
      "Action\n",
      "Crime\n",
      "Thriller\n",
      "Crime\n",
      "Drama\n",
      "Action\n",
      "Crime\n",
      "Thriller\n",
      "Action\n",
      "Adventure\n",
      "Thriller\n",
      "Drama\n",
      "Romance\n",
      "Crime\n",
      "Drama\n",
      "Thriller\n",
      "Action\n",
      "Adventure\n",
      "Drama\n",
      "Sci-Fi\n",
      "Drama\n",
      "Adventure\n",
      "Fantasy\n",
      "Drama\n",
      "Western\n",
      "Comedy\n",
      "Drama\n",
      "Action\n",
      "Adventure\n",
      "Sci-Fi\n",
      "Drama\n",
      "Music\n",
      "Biography\n",
      "Drama\n",
      "Thriller\n",
      "War\n",
      "Action\n",
      "Comedy\n",
      "Crime\n",
      "Drama\n",
      "Action\n",
      "Adventure\n",
      "Fantasy\n",
      "Animation\n",
      "Adventure\n",
      "Comedy\n",
      "Family\n",
      "Fantasy\n",
      "Mystery\n",
      "Romance\n",
      "Thriller\n",
      "Action\n",
      "Mystery\n",
      "Sci-Fi\n",
      "Thriller\n",
      "Drama\n",
      "War\n",
      "Animation\n",
      "Adventure\n",
      "Comedy\n",
      "Family\n",
      "Comedy\n",
      "Romance\n",
      "Action\n",
      "Thriller\n",
      "Action\n",
      "Horror\n",
      "Sci-Fi\n",
      "Thriller\n",
      "Horror\n",
      "Thriller\n",
      "Crime\n",
      "Drama\n",
      "Sci-Fi\n",
      "Thriller\n",
      "Drama\n",
      "Mystery\n",
      "Thriller\n",
      "Biography\n",
      "Drama\n",
      "Romance\n",
      "Drama\n",
      "War\n",
      "Comedy\n",
      "Romance\n",
      "Comedy\n",
      "Drama\n",
      "Drama\n",
      "Mystery\n",
      "Romance\n",
      "Sci-Fi\n",
      "Thriller\n",
      "Action\n",
      "Adventure\n",
      "Sci-Fi\n",
      "Comedy\n",
      "Drama\n",
      "Horror\n",
      "Biography\n",
      "Drama\n",
      "Sport\n",
      "War\n",
      "Horror\n",
      "Thriller\n",
      "Crime\n",
      "Drama\n",
      "Mystery\n",
      "Thriller\n",
      "Drama\n",
      "Sport\n",
      "Comedy\n",
      "Drama\n",
      "Drama\n",
      "Music\n",
      "Drama\n",
      "Fantasy\n",
      "Mystery\n",
      "Romance\n",
      "Comedy\n",
      "Drama\n",
      "Action\n",
      "Horror\n",
      "Action\n",
      "Adventure\n",
      "Sci-Fi\n",
      "Thriller\n"
     ]
    }
   ],
   "source": [
    "for index, row in data.iterrows():\n",
    "    genres = row['Genre'].replace(\",\",\"\").split()\n",
    "    for genre in genres:\n",
    "        print genre\n",
    "        if genre in data.columns.values.tolist():\n",
    "            data.set_value(index, genre, 1.0)\n",
    "        else:\n",
    "            data[genre] = pd.Series(0, index = data.index)\n",
    "            data.set_value(index, genre, 1.0)"
   ]
  },
  {
   "cell_type": "code",
   "execution_count": 378,
   "metadata": {
    "collapsed": false
   },
   "outputs": [
    {
     "data": {
      "text/html": [
       "<div>\n",
       "<table border=\"1\" class=\"dataframe\">\n",
       "  <thead>\n",
       "    <tr style=\"text-align: right;\">\n",
       "      <th></th>\n",
       "      <th>ID</th>\n",
       "      <th>Genre</th>\n",
       "      <th>Rating</th>\n",
       "      <th>Review</th>\n",
       "      <th>Metascore</th>\n",
       "      <th>Budget</th>\n",
       "      <th>Biography</th>\n",
       "      <th>Drama</th>\n",
       "      <th>History</th>\n",
       "      <th>Action</th>\n",
       "      <th>...</th>\n",
       "      <th>Horror</th>\n",
       "      <th>Romance</th>\n",
       "      <th>Sci-Fi</th>\n",
       "      <th>Music</th>\n",
       "      <th>Animation</th>\n",
       "      <th>Family</th>\n",
       "      <th>Mystery</th>\n",
       "      <th>Musical</th>\n",
       "      <th>War</th>\n",
       "      <th>Western</th>\n",
       "    </tr>\n",
       "  </thead>\n",
       "  <tbody>\n",
       "    <tr>\n",
       "      <th>17366</th>\n",
       "      <td>tt1809398</td>\n",
       "      <td>Biography, Drama, Sport, War</td>\n",
       "      <td>PG-13</td>\n",
       "      <td>7.2</td>\n",
       "      <td>59.0</td>\n",
       "      <td>65000000.0</td>\n",
       "      <td>1</td>\n",
       "      <td>1</td>\n",
       "      <td>0</td>\n",
       "      <td>0</td>\n",
       "      <td>...</td>\n",
       "      <td>0</td>\n",
       "      <td>0</td>\n",
       "      <td>0</td>\n",
       "      <td>0</td>\n",
       "      <td>0</td>\n",
       "      <td>0</td>\n",
       "      <td>0</td>\n",
       "      <td>0</td>\n",
       "      <td>1</td>\n",
       "      <td>0</td>\n",
       "    </tr>\n",
       "    <tr>\n",
       "      <th>17397</th>\n",
       "      <td>tt3713166</td>\n",
       "      <td>Horror, Thriller</td>\n",
       "      <td>R</td>\n",
       "      <td>5.9</td>\n",
       "      <td>59.0</td>\n",
       "      <td>1000000.0</td>\n",
       "      <td>0</td>\n",
       "      <td>0</td>\n",
       "      <td>0</td>\n",
       "      <td>0</td>\n",
       "      <td>...</td>\n",
       "      <td>1</td>\n",
       "      <td>0</td>\n",
       "      <td>0</td>\n",
       "      <td>0</td>\n",
       "      <td>0</td>\n",
       "      <td>0</td>\n",
       "      <td>0</td>\n",
       "      <td>0</td>\n",
       "      <td>0</td>\n",
       "      <td>0</td>\n",
       "    </tr>\n",
       "    <tr>\n",
       "      <th>17511</th>\n",
       "      <td>tt2771372</td>\n",
       "      <td>Crime, Drama, Mystery, Thriller</td>\n",
       "      <td>PG-13</td>\n",
       "      <td>6.8</td>\n",
       "      <td>62.0</td>\n",
       "      <td>6000000.0</td>\n",
       "      <td>0</td>\n",
       "      <td>1</td>\n",
       "      <td>0</td>\n",
       "      <td>0</td>\n",
       "      <td>...</td>\n",
       "      <td>0</td>\n",
       "      <td>0</td>\n",
       "      <td>0</td>\n",
       "      <td>0</td>\n",
       "      <td>0</td>\n",
       "      <td>0</td>\n",
       "      <td>1</td>\n",
       "      <td>0</td>\n",
       "      <td>0</td>\n",
       "      <td>0</td>\n",
       "    </tr>\n",
       "    <tr>\n",
       "      <th>17722</th>\n",
       "      <td>tt2247476</td>\n",
       "      <td>Drama, Sport</td>\n",
       "      <td>PG</td>\n",
       "      <td>6.6</td>\n",
       "      <td>41.0</td>\n",
       "      <td>15000000.0</td>\n",
       "      <td>0</td>\n",
       "      <td>1</td>\n",
       "      <td>0</td>\n",
       "      <td>0</td>\n",
       "      <td>...</td>\n",
       "      <td>0</td>\n",
       "      <td>0</td>\n",
       "      <td>0</td>\n",
       "      <td>0</td>\n",
       "      <td>0</td>\n",
       "      <td>0</td>\n",
       "      <td>0</td>\n",
       "      <td>0</td>\n",
       "      <td>0</td>\n",
       "      <td>0</td>\n",
       "    </tr>\n",
       "    <tr>\n",
       "      <th>17741</th>\n",
       "      <td>tt1791682</td>\n",
       "      <td>Comedy, Drama</td>\n",
       "      <td>R</td>\n",
       "      <td>6.5</td>\n",
       "      <td>76.0</td>\n",
       "      <td>10000000.0</td>\n",
       "      <td>0</td>\n",
       "      <td>1</td>\n",
       "      <td>0</td>\n",
       "      <td>0</td>\n",
       "      <td>...</td>\n",
       "      <td>0</td>\n",
       "      <td>0</td>\n",
       "      <td>0</td>\n",
       "      <td>0</td>\n",
       "      <td>0</td>\n",
       "      <td>0</td>\n",
       "      <td>0</td>\n",
       "      <td>0</td>\n",
       "      <td>0</td>\n",
       "      <td>0</td>\n",
       "    </tr>\n",
       "    <tr>\n",
       "      <th>17742</th>\n",
       "      <td>tt2582802</td>\n",
       "      <td>Drama, Music</td>\n",
       "      <td>R</td>\n",
       "      <td>8.6</td>\n",
       "      <td>88.0</td>\n",
       "      <td>3300000.0</td>\n",
       "      <td>0</td>\n",
       "      <td>1</td>\n",
       "      <td>0</td>\n",
       "      <td>0</td>\n",
       "      <td>...</td>\n",
       "      <td>0</td>\n",
       "      <td>0</td>\n",
       "      <td>0</td>\n",
       "      <td>1</td>\n",
       "      <td>0</td>\n",
       "      <td>0</td>\n",
       "      <td>0</td>\n",
       "      <td>0</td>\n",
       "      <td>0</td>\n",
       "      <td>0</td>\n",
       "    </tr>\n",
       "    <tr>\n",
       "      <th>17793</th>\n",
       "      <td>tt1837709</td>\n",
       "      <td>Drama, Fantasy, Mystery, Romance</td>\n",
       "      <td>PG-13</td>\n",
       "      <td>6.2</td>\n",
       "      <td>31.0</td>\n",
       "      <td>60000000.0</td>\n",
       "      <td>0</td>\n",
       "      <td>1</td>\n",
       "      <td>0</td>\n",
       "      <td>0</td>\n",
       "      <td>...</td>\n",
       "      <td>0</td>\n",
       "      <td>1</td>\n",
       "      <td>0</td>\n",
       "      <td>0</td>\n",
       "      <td>0</td>\n",
       "      <td>0</td>\n",
       "      <td>1</td>\n",
       "      <td>0</td>\n",
       "      <td>0</td>\n",
       "      <td>0</td>\n",
       "    </tr>\n",
       "    <tr>\n",
       "      <th>17800</th>\n",
       "      <td>tt2870708</td>\n",
       "      <td>Comedy, Drama</td>\n",
       "      <td>R</td>\n",
       "      <td>6.7</td>\n",
       "      <td>43.0</td>\n",
       "      <td>6000000.0</td>\n",
       "      <td>0</td>\n",
       "      <td>1</td>\n",
       "      <td>0</td>\n",
       "      <td>0</td>\n",
       "      <td>...</td>\n",
       "      <td>0</td>\n",
       "      <td>0</td>\n",
       "      <td>0</td>\n",
       "      <td>0</td>\n",
       "      <td>0</td>\n",
       "      <td>0</td>\n",
       "      <td>0</td>\n",
       "      <td>0</td>\n",
       "      <td>0</td>\n",
       "      <td>0</td>\n",
       "    </tr>\n",
       "    <tr>\n",
       "      <th>17819</th>\n",
       "      <td>tt1403241</td>\n",
       "      <td>Action, Horror</td>\n",
       "      <td>R</td>\n",
       "      <td>5.2</td>\n",
       "      <td>37.0</td>\n",
       "      <td>18000000.0</td>\n",
       "      <td>0</td>\n",
       "      <td>0</td>\n",
       "      <td>0</td>\n",
       "      <td>1</td>\n",
       "      <td>...</td>\n",
       "      <td>1</td>\n",
       "      <td>0</td>\n",
       "      <td>0</td>\n",
       "      <td>0</td>\n",
       "      <td>0</td>\n",
       "      <td>0</td>\n",
       "      <td>0</td>\n",
       "      <td>0</td>\n",
       "      <td>0</td>\n",
       "      <td>0</td>\n",
       "    </tr>\n",
       "    <tr>\n",
       "      <th>17852</th>\n",
       "      <td>tt1877832</td>\n",
       "      <td>Action, Adventure, Sci-Fi, Thriller</td>\n",
       "      <td>PG-</td>\n",
       "      <td>8.1</td>\n",
       "      <td>74.0</td>\n",
       "      <td>200000000.0</td>\n",
       "      <td>0</td>\n",
       "      <td>0</td>\n",
       "      <td>0</td>\n",
       "      <td>1</td>\n",
       "      <td>...</td>\n",
       "      <td>0</td>\n",
       "      <td>0</td>\n",
       "      <td>1</td>\n",
       "      <td>0</td>\n",
       "      <td>0</td>\n",
       "      <td>0</td>\n",
       "      <td>0</td>\n",
       "      <td>0</td>\n",
       "      <td>0</td>\n",
       "      <td>0</td>\n",
       "    </tr>\n",
       "  </tbody>\n",
       "</table>\n",
       "<p>10 rows × 26 columns</p>\n",
       "</div>"
      ],
      "text/plain": [
       "              ID                                Genre Rating Review Metascore  \\\n",
       "17366  tt1809398         Biography, Drama, Sport, War  PG-13    7.2      59.0   \n",
       "17397  tt3713166                     Horror, Thriller      R    5.9      59.0   \n",
       "17511  tt2771372      Crime, Drama, Mystery, Thriller  PG-13    6.8      62.0   \n",
       "17722  tt2247476                         Drama, Sport     PG    6.6      41.0   \n",
       "17741  tt1791682                        Comedy, Drama      R    6.5      76.0   \n",
       "17742  tt2582802                         Drama, Music      R    8.6      88.0   \n",
       "17793  tt1837709     Drama, Fantasy, Mystery, Romance  PG-13    6.2      31.0   \n",
       "17800  tt2870708                        Comedy, Drama      R    6.7      43.0   \n",
       "17819  tt1403241                       Action, Horror      R    5.2      37.0   \n",
       "17852  tt1877832  Action, Adventure, Sci-Fi, Thriller    PG-    8.1      74.0   \n",
       "\n",
       "            Budget  Biography  Drama  History  Action   ...     Horror  \\\n",
       "17366   65000000.0          1      1        0       0   ...          0   \n",
       "17397    1000000.0          0      0        0       0   ...          1   \n",
       "17511    6000000.0          0      1        0       0   ...          0   \n",
       "17722   15000000.0          0      1        0       0   ...          0   \n",
       "17741   10000000.0          0      1        0       0   ...          0   \n",
       "17742    3300000.0          0      1        0       0   ...          0   \n",
       "17793   60000000.0          0      1        0       0   ...          0   \n",
       "17800    6000000.0          0      1        0       0   ...          0   \n",
       "17819   18000000.0          0      0        0       1   ...          1   \n",
       "17852  200000000.0          0      0        0       1   ...          0   \n",
       "\n",
       "       Romance  Sci-Fi  Music  Animation  Family  Mystery  Musical  War  \\\n",
       "17366        0       0      0          0       0        0        0    1   \n",
       "17397        0       0      0          0       0        0        0    0   \n",
       "17511        0       0      0          0       0        1        0    0   \n",
       "17722        0       0      0          0       0        0        0    0   \n",
       "17741        0       0      0          0       0        0        0    0   \n",
       "17742        0       0      1          0       0        0        0    0   \n",
       "17793        1       0      0          0       0        1        0    0   \n",
       "17800        0       0      0          0       0        0        0    0   \n",
       "17819        0       0      0          0       0        0        0    0   \n",
       "17852        0       1      0          0       0        0        0    0   \n",
       "\n",
       "       Western  \n",
       "17366        0  \n",
       "17397        0  \n",
       "17511        0  \n",
       "17722        0  \n",
       "17741        0  \n",
       "17742        0  \n",
       "17793        0  \n",
       "17800        0  \n",
       "17819        0  \n",
       "17852        0  \n",
       "\n",
       "[10 rows x 26 columns]"
      ]
     },
     "execution_count": 378,
     "metadata": {},
     "output_type": "execute_result"
    }
   ],
   "source": [
    "data.tail(10)"
   ]
  },
  {
   "cell_type": "code",
   "execution_count": 379,
   "metadata": {
    "collapsed": false
   },
   "outputs": [
    {
     "data": {
      "text/plain": [
       "ID           object\n",
       "Genre        object\n",
       "Rating       object\n",
       "Review       object\n",
       "Metascore    object\n",
       "Budget       object\n",
       "Biography     int64\n",
       "Drama         int64\n",
       "History       int64\n",
       "Action        int64\n",
       "Comedy        int64\n",
       "Crime         int64\n",
       "Thriller      int64\n",
       "Sport         int64\n",
       "Adventure     int64\n",
       "Fantasy       int64\n",
       "Horror        int64\n",
       "Romance       int64\n",
       "Sci-Fi        int64\n",
       "Music         int64\n",
       "Animation     int64\n",
       "Family        int64\n",
       "Mystery       int64\n",
       "Musical       int64\n",
       "War           int64\n",
       "Western       int64\n",
       "dtype: object"
      ]
     },
     "execution_count": 379,
     "metadata": {},
     "output_type": "execute_result"
    }
   ],
   "source": [
    "data.dtypes"
   ]
  },
  {
   "cell_type": "code",
   "execution_count": 380,
   "metadata": {
    "collapsed": false
   },
   "outputs": [
    {
     "data": {
      "text/plain": [
       "False"
      ]
     },
     "execution_count": 380,
     "metadata": {},
     "output_type": "execute_result"
    }
   ],
   "source": [
    "data.isnull().any().any()"
   ]
  },
  {
   "cell_type": "code",
   "execution_count": 381,
   "metadata": {
    "collapsed": false
   },
   "outputs": [
    {
     "data": {
      "text/plain": [
       "ID           object\n",
       "Genre        object\n",
       "Rating       object\n",
       "Review       object\n",
       "Metascore    object\n",
       "Budget       object\n",
       "Biography     int64\n",
       "Drama         int64\n",
       "History       int64\n",
       "Action        int64\n",
       "Comedy        int64\n",
       "Crime         int64\n",
       "Thriller      int64\n",
       "Sport         int64\n",
       "Adventure     int64\n",
       "Fantasy       int64\n",
       "Horror        int64\n",
       "Romance       int64\n",
       "Sci-Fi        int64\n",
       "Music         int64\n",
       "Animation     int64\n",
       "Family        int64\n",
       "Mystery       int64\n",
       "Musical       int64\n",
       "War           int64\n",
       "Western       int64\n",
       "dtype: object"
      ]
     },
     "execution_count": 381,
     "metadata": {},
     "output_type": "execute_result"
    }
   ],
   "source": [
    "data.dtypes"
   ]
  },
  {
   "cell_type": "code",
   "execution_count": 382,
   "metadata": {
    "collapsed": false
   },
   "outputs": [],
   "source": [
    "data = data.drop('ID', 1)"
   ]
  },
  {
   "cell_type": "code",
   "execution_count": 383,
   "metadata": {
    "collapsed": true
   },
   "outputs": [],
   "source": [
    "data = data.drop('Genre', 1)"
   ]
  },
  {
   "cell_type": "code",
   "execution_count": 384,
   "metadata": {
    "collapsed": false
   },
   "outputs": [
    {
     "data": {
      "text/html": [
       "<div>\n",
       "<table border=\"1\" class=\"dataframe\">\n",
       "  <thead>\n",
       "    <tr style=\"text-align: right;\">\n",
       "      <th></th>\n",
       "      <th>Rating</th>\n",
       "      <th>Review</th>\n",
       "      <th>Metascore</th>\n",
       "      <th>Budget</th>\n",
       "      <th>Biography</th>\n",
       "      <th>Drama</th>\n",
       "      <th>History</th>\n",
       "      <th>Action</th>\n",
       "      <th>Comedy</th>\n",
       "      <th>Crime</th>\n",
       "      <th>...</th>\n",
       "      <th>Horror</th>\n",
       "      <th>Romance</th>\n",
       "      <th>Sci-Fi</th>\n",
       "      <th>Music</th>\n",
       "      <th>Animation</th>\n",
       "      <th>Family</th>\n",
       "      <th>Mystery</th>\n",
       "      <th>Musical</th>\n",
       "      <th>War</th>\n",
       "      <th>Western</th>\n",
       "    </tr>\n",
       "  </thead>\n",
       "  <tbody>\n",
       "    <tr>\n",
       "      <th>34</th>\n",
       "      <td>R</td>\n",
       "      <td>8.1</td>\n",
       "      <td>97.0</td>\n",
       "      <td>20000000.0</td>\n",
       "      <td>1</td>\n",
       "      <td>1</td>\n",
       "      <td>1</td>\n",
       "      <td>0</td>\n",
       "      <td>0</td>\n",
       "      <td>0</td>\n",
       "      <td>...</td>\n",
       "      <td>0</td>\n",
       "      <td>0</td>\n",
       "      <td>0</td>\n",
       "      <td>0</td>\n",
       "      <td>0</td>\n",
       "      <td>0</td>\n",
       "      <td>0</td>\n",
       "      <td>0</td>\n",
       "      <td>0</td>\n",
       "      <td>0</td>\n",
       "    </tr>\n",
       "    <tr>\n",
       "      <th>56</th>\n",
       "      <td>R</td>\n",
       "      <td>6.8</td>\n",
       "      <td>55.0</td>\n",
       "      <td>61000000.0</td>\n",
       "      <td>0</td>\n",
       "      <td>1</td>\n",
       "      <td>0</td>\n",
       "      <td>1</td>\n",
       "      <td>1</td>\n",
       "      <td>1</td>\n",
       "      <td>...</td>\n",
       "      <td>0</td>\n",
       "      <td>0</td>\n",
       "      <td>0</td>\n",
       "      <td>0</td>\n",
       "      <td>0</td>\n",
       "      <td>0</td>\n",
       "      <td>0</td>\n",
       "      <td>0</td>\n",
       "      <td>0</td>\n",
       "      <td>0</td>\n",
       "    </tr>\n",
       "    <tr>\n",
       "      <th>68</th>\n",
       "      <td>R</td>\n",
       "      <td>5.9</td>\n",
       "      <td>34.0</td>\n",
       "      <td>13000000.0</td>\n",
       "      <td>0</td>\n",
       "      <td>0</td>\n",
       "      <td>0</td>\n",
       "      <td>0</td>\n",
       "      <td>1</td>\n",
       "      <td>0</td>\n",
       "      <td>...</td>\n",
       "      <td>0</td>\n",
       "      <td>0</td>\n",
       "      <td>0</td>\n",
       "      <td>0</td>\n",
       "      <td>0</td>\n",
       "      <td>0</td>\n",
       "      <td>0</td>\n",
       "      <td>0</td>\n",
       "      <td>0</td>\n",
       "      <td>0</td>\n",
       "    </tr>\n",
       "    <tr>\n",
       "      <th>100</th>\n",
       "      <td>PG-13</td>\n",
       "      <td>7.5</td>\n",
       "      <td>62.0</td>\n",
       "      <td>40000000.0</td>\n",
       "      <td>1</td>\n",
       "      <td>1</td>\n",
       "      <td>0</td>\n",
       "      <td>0</td>\n",
       "      <td>0</td>\n",
       "      <td>0</td>\n",
       "      <td>...</td>\n",
       "      <td>0</td>\n",
       "      <td>0</td>\n",
       "      <td>0</td>\n",
       "      <td>0</td>\n",
       "      <td>0</td>\n",
       "      <td>0</td>\n",
       "      <td>0</td>\n",
       "      <td>0</td>\n",
       "      <td>0</td>\n",
       "      <td>0</td>\n",
       "    </tr>\n",
       "    <tr>\n",
       "      <th>103</th>\n",
       "      <td>PG-13</td>\n",
       "      <td>6.3</td>\n",
       "      <td>28.0</td>\n",
       "      <td>175000000.0</td>\n",
       "      <td>0</td>\n",
       "      <td>1</td>\n",
       "      <td>0</td>\n",
       "      <td>1</td>\n",
       "      <td>0</td>\n",
       "      <td>0</td>\n",
       "      <td>...</td>\n",
       "      <td>0</td>\n",
       "      <td>0</td>\n",
       "      <td>0</td>\n",
       "      <td>0</td>\n",
       "      <td>0</td>\n",
       "      <td>0</td>\n",
       "      <td>0</td>\n",
       "      <td>0</td>\n",
       "      <td>0</td>\n",
       "      <td>0</td>\n",
       "    </tr>\n",
       "  </tbody>\n",
       "</table>\n",
       "<p>5 rows × 24 columns</p>\n",
       "</div>"
      ],
      "text/plain": [
       "    Rating Review Metascore       Budget  Biography  Drama  History  Action  \\\n",
       "34       R    8.1      97.0   20000000.0          1      1        1       0   \n",
       "56       R    6.8      55.0   61000000.0          0      1        0       1   \n",
       "68       R    5.9      34.0   13000000.0          0      0        0       0   \n",
       "100  PG-13    7.5      62.0   40000000.0          1      1        0       0   \n",
       "103  PG-13    6.3      28.0  175000000.0          0      1        0       1   \n",
       "\n",
       "     Comedy  Crime   ...     Horror  Romance  Sci-Fi  Music  Animation  \\\n",
       "34        0      0   ...          0        0       0      0          0   \n",
       "56        1      1   ...          0        0       0      0          0   \n",
       "68        1      0   ...          0        0       0      0          0   \n",
       "100       0      0   ...          0        0       0      0          0   \n",
       "103       0      0   ...          0        0       0      0          0   \n",
       "\n",
       "     Family  Mystery  Musical  War  Western  \n",
       "34        0        0        0    0        0  \n",
       "56        0        0        0    0        0  \n",
       "68        0        0        0    0        0  \n",
       "100       0        0        0    0        0  \n",
       "103       0        0        0    0        0  \n",
       "\n",
       "[5 rows x 24 columns]"
      ]
     },
     "execution_count": 384,
     "metadata": {},
     "output_type": "execute_result"
    }
   ],
   "source": [
    "data.head(5)"
   ]
  },
  {
   "cell_type": "code",
   "execution_count": 385,
   "metadata": {
    "collapsed": false
   },
   "outputs": [],
   "source": [
    "import matplotlib.pylab as plt\n",
    "import seaborn as sns"
   ]
  },
  {
   "cell_type": "code",
   "execution_count": 386,
   "metadata": {
    "collapsed": false
   },
   "outputs": [
    {
     "data": {
      "text/plain": [
       "False"
      ]
     },
     "execution_count": 386,
     "metadata": {},
     "output_type": "execute_result"
    }
   ],
   "source": [
    "data.isnull().any().any()"
   ]
  },
  {
   "cell_type": "code",
   "execution_count": 387,
   "metadata": {
    "collapsed": false
   },
   "outputs": [],
   "source": [
    "#data.Rating = data.Rating.astype(str)\n",
    "#data.Review = data.Review.astype(float)\n",
    "#data.Metascore = data.Metascore.astype(float)\n",
    "#data.Budget = data.Budget.astype(float)\n",
    "data['Review'] = data['Review'].convert_objects(convert_numeric=True)\n",
    "data['Metascore'] = data['Metascore'].convert_objects(convert_numeric=True)\n",
    "data['Budget'] = data['Budget'].convert_objects(convert_numeric=True)"
   ]
  },
  {
   "cell_type": "code",
   "execution_count": 388,
   "metadata": {
    "collapsed": false
   },
   "outputs": [
    {
     "data": {
      "text/plain": [
       "False"
      ]
     },
     "execution_count": 388,
     "metadata": {},
     "output_type": "execute_result"
    }
   ],
   "source": [
    "data.isnull().any().any()"
   ]
  },
  {
   "cell_type": "code",
   "execution_count": 389,
   "metadata": {
    "collapsed": false
   },
   "outputs": [
    {
     "data": {
      "text/plain": [
       "Rating        object\n",
       "Review       float64\n",
       "Metascore    float64\n",
       "Budget       float64\n",
       "Biography      int64\n",
       "Drama          int64\n",
       "History        int64\n",
       "Action         int64\n",
       "Comedy         int64\n",
       "Crime          int64\n",
       "Thriller       int64\n",
       "Sport          int64\n",
       "Adventure      int64\n",
       "Fantasy        int64\n",
       "Horror         int64\n",
       "Romance        int64\n",
       "Sci-Fi         int64\n",
       "Music          int64\n",
       "Animation      int64\n",
       "Family         int64\n",
       "Mystery        int64\n",
       "Musical        int64\n",
       "War            int64\n",
       "Western        int64\n",
       "dtype: object"
      ]
     },
     "execution_count": 389,
     "metadata": {},
     "output_type": "execute_result"
    }
   ],
   "source": [
    "data.dtypes"
   ]
  },
  {
   "cell_type": "code",
   "execution_count": 438,
   "metadata": {
    "collapsed": false
   },
   "outputs": [
    {
     "data": {
      "text/plain": [
       "<seaborn.axisgrid.PairGrid at 0x11a56e3d0>"
      ]
     },
     "execution_count": 438,
     "metadata": {},
     "output_type": "execute_result"
    },
    {
     "data": {
      "image/png": "[encoded data removed]",
      "text/plain": [
       "<matplotlib.figure.Figure at 0x11a56e450>"
      ]
     },
     "metadata": {},
     "output_type": "display_data"
    }
   ],
   "source": [
    "sns.pairplot(data, x_vars=['Review'],y_vars=['Metascore'],size=6, aspect=1.5, kind='reg')"
   ]
  },
  {
   "cell_type": "code",
   "execution_count": 440,
   "metadata": {
    "collapsed": false
   },
   "outputs": [
    {
     "data": {
      "text/plain": [
       "<seaborn.axisgrid.JointGrid at 0x11ae6bad0>"
      ]
     },
     "execution_count": 440,
     "metadata": {},
     "output_type": "execute_result"
    },
    {
     "data": {
      "image/png": "[encoded data removed]",
      "text/plain": [
       "<matplotlib.figure.Figure at 0x11ae6bb50>"
      ]
     },
     "metadata": {},
     "output_type": "display_data"
    }
   ],
   "source": [
    "sns.jointplot(data=data, x='Review',y='Metascore')"
   ]
  },
  {
   "cell_type": "code",
   "execution_count": 392,
   "metadata": {
    "collapsed": false
   },
   "outputs": [
    {
     "data": {
      "image/png": "[encoded data removed]",
      "text/plain": [
       "<matplotlib.figure.Figure at 0x1142c0550>"
      ]
     },
     "metadata": {},
     "output_type": "display_data"
    }
   ],
   "source": [
    "sns.jointplot(x=\"Budget\", y=\"Review\", data=data, kind=\"kde\");"
   ]
  },
  {
   "cell_type": "code",
   "execution_count": 393,
   "metadata": {
    "collapsed": false
   },
   "outputs": [
    {
     "data": {
      "image/png": "[encoded data removed]",
      "text/plain": [
       "<matplotlib.figure.Figure at 0x119703f90>"
      ]
     },
     "metadata": {},
     "output_type": "display_data"
    }
   ],
   "source": [
    "sns.jointplot(x=\"Review\", y=\"Metascore\", data=data, kind=\"kde\");"
   ]
  },
  {
   "cell_type": "code",
   "execution_count": 436,
   "metadata": {
    "collapsed": false
   },
   "outputs": [
    {
     "data": {
      "text/plain": [
       "<matplotlib.text.Text at 0x11a27cf10>"
      ]
     },
     "execution_count": 436,
     "metadata": {},
     "output_type": "execute_result"
    },
    {
     "data": {
      "image/png": "[encoded data removed]",
      "text/plain": [
       "<matplotlib.figure.Figure at 0x11a6efc50>"
      ]
     },
     "metadata": {},
     "output_type": "display_data"
    }
   ],
   "source": [
    "%matplotlib inline\n",
    "plt.scatter(data.Budget,data.Review*10-data.Metascore)\n",
    "plt.xlabel(\"Budget\")\n",
    "plt.ylabel(\"User Rating - Critic Rating\")"
   ]
  },
  {
   "cell_type": "code",
   "execution_count": 395,
   "metadata": {
    "collapsed": false
   },
   "outputs": [
    {
     "data": {
      "text/plain": [
       "False"
      ]
     },
     "execution_count": 395,
     "metadata": {},
     "output_type": "execute_result"
    }
   ],
   "source": [
    "data.isnull().any().any()"
   ]
  },
  {
   "cell_type": "code",
   "execution_count": 396,
   "metadata": {
    "collapsed": false
   },
   "outputs": [
    {
     "data": {
      "text/plain": [
       "numpy.int64"
      ]
     },
     "execution_count": 396,
     "metadata": {},
     "output_type": "execute_result"
    }
   ],
   "source": [
    "type(data['Biography'].iloc[0])"
   ]
  },
  {
   "cell_type": "code",
   "execution_count": 397,
   "metadata": {
    "collapsed": true
   },
   "outputs": [],
   "source": [
    "feature_cols=['Rating',\n",
    " 'Budget',\n",
    " 'Comedy',\n",
    " 'Horror',\n",
    " 'Thriller',\n",
    " 'Action',\n",
    " 'Crime',\n",
    " 'Drama',\n",
    " 'Fantasy',\n",
    " 'War',\n",
    " 'Western',\n",
    " 'Mystery',\n",
    " 'Romance',\n",
    " 'Family',\n",
    " 'Biography',\n",
    " 'History',\n",
    " 'Musical',\n",
    " 'Sci-Fi',\n",
    " 'Music',\n",
    " 'Animation',\n",
    " 'Adventure',\n",
    " 'Sport']"
   ]
  },
  {
   "cell_type": "code",
   "execution_count": 398,
   "metadata": {
    "collapsed": false
   },
   "outputs": [
    {
     "data": {
      "text/html": [
       "<div>\n",
       "<table border=\"1\" class=\"dataframe\">\n",
       "  <thead>\n",
       "    <tr style=\"text-align: right;\">\n",
       "      <th></th>\n",
       "      <th>Rating</th>\n",
       "      <th>Budget</th>\n",
       "      <th>Comedy</th>\n",
       "      <th>Horror</th>\n",
       "      <th>Thriller</th>\n",
       "      <th>Action</th>\n",
       "      <th>Crime</th>\n",
       "      <th>Drama</th>\n",
       "      <th>Fantasy</th>\n",
       "      <th>War</th>\n",
       "      <th>...</th>\n",
       "      <th>Romance</th>\n",
       "      <th>Family</th>\n",
       "      <th>Biography</th>\n",
       "      <th>History</th>\n",
       "      <th>Musical</th>\n",
       "      <th>Sci-Fi</th>\n",
       "      <th>Music</th>\n",
       "      <th>Animation</th>\n",
       "      <th>Adventure</th>\n",
       "      <th>Sport</th>\n",
       "    </tr>\n",
       "  </thead>\n",
       "  <tbody>\n",
       "    <tr>\n",
       "      <th>34</th>\n",
       "      <td>R</td>\n",
       "      <td>20000000</td>\n",
       "      <td>0</td>\n",
       "      <td>0</td>\n",
       "      <td>0</td>\n",
       "      <td>0</td>\n",
       "      <td>0</td>\n",
       "      <td>1</td>\n",
       "      <td>0</td>\n",
       "      <td>0</td>\n",
       "      <td>...</td>\n",
       "      <td>0</td>\n",
       "      <td>0</td>\n",
       "      <td>1</td>\n",
       "      <td>1</td>\n",
       "      <td>0</td>\n",
       "      <td>0</td>\n",
       "      <td>0</td>\n",
       "      <td>0</td>\n",
       "      <td>0</td>\n",
       "      <td>0</td>\n",
       "    </tr>\n",
       "    <tr>\n",
       "      <th>56</th>\n",
       "      <td>R</td>\n",
       "      <td>61000000</td>\n",
       "      <td>1</td>\n",
       "      <td>0</td>\n",
       "      <td>1</td>\n",
       "      <td>1</td>\n",
       "      <td>1</td>\n",
       "      <td>1</td>\n",
       "      <td>0</td>\n",
       "      <td>0</td>\n",
       "      <td>...</td>\n",
       "      <td>0</td>\n",
       "      <td>0</td>\n",
       "      <td>0</td>\n",
       "      <td>0</td>\n",
       "      <td>0</td>\n",
       "      <td>0</td>\n",
       "      <td>0</td>\n",
       "      <td>0</td>\n",
       "      <td>0</td>\n",
       "      <td>0</td>\n",
       "    </tr>\n",
       "    <tr>\n",
       "      <th>68</th>\n",
       "      <td>R</td>\n",
       "      <td>13000000</td>\n",
       "      <td>1</td>\n",
       "      <td>0</td>\n",
       "      <td>0</td>\n",
       "      <td>0</td>\n",
       "      <td>0</td>\n",
       "      <td>0</td>\n",
       "      <td>0</td>\n",
       "      <td>0</td>\n",
       "      <td>...</td>\n",
       "      <td>0</td>\n",
       "      <td>0</td>\n",
       "      <td>0</td>\n",
       "      <td>0</td>\n",
       "      <td>0</td>\n",
       "      <td>0</td>\n",
       "      <td>0</td>\n",
       "      <td>0</td>\n",
       "      <td>0</td>\n",
       "      <td>0</td>\n",
       "    </tr>\n",
       "    <tr>\n",
       "      <th>100</th>\n",
       "      <td>PG-13</td>\n",
       "      <td>40000000</td>\n",
       "      <td>0</td>\n",
       "      <td>0</td>\n",
       "      <td>0</td>\n",
       "      <td>0</td>\n",
       "      <td>0</td>\n",
       "      <td>1</td>\n",
       "      <td>0</td>\n",
       "      <td>0</td>\n",
       "      <td>...</td>\n",
       "      <td>0</td>\n",
       "      <td>0</td>\n",
       "      <td>1</td>\n",
       "      <td>0</td>\n",
       "      <td>0</td>\n",
       "      <td>0</td>\n",
       "      <td>0</td>\n",
       "      <td>0</td>\n",
       "      <td>0</td>\n",
       "      <td>1</td>\n",
       "    </tr>\n",
       "    <tr>\n",
       "      <th>103</th>\n",
       "      <td>PG-13</td>\n",
       "      <td>175000000</td>\n",
       "      <td>0</td>\n",
       "      <td>0</td>\n",
       "      <td>0</td>\n",
       "      <td>1</td>\n",
       "      <td>0</td>\n",
       "      <td>1</td>\n",
       "      <td>1</td>\n",
       "      <td>0</td>\n",
       "      <td>...</td>\n",
       "      <td>0</td>\n",
       "      <td>0</td>\n",
       "      <td>0</td>\n",
       "      <td>0</td>\n",
       "      <td>0</td>\n",
       "      <td>0</td>\n",
       "      <td>0</td>\n",
       "      <td>0</td>\n",
       "      <td>1</td>\n",
       "      <td>0</td>\n",
       "    </tr>\n",
       "  </tbody>\n",
       "</table>\n",
       "<p>5 rows × 22 columns</p>\n",
       "</div>"
      ],
      "text/plain": [
       "    Rating     Budget  Comedy  Horror  Thriller  Action  Crime  Drama  \\\n",
       "34       R   20000000       0       0         0       0      0      1   \n",
       "56       R   61000000       1       0         1       1      1      1   \n",
       "68       R   13000000       1       0         0       0      0      0   \n",
       "100  PG-13   40000000       0       0         0       0      0      1   \n",
       "103  PG-13  175000000       0       0         0       1      0      1   \n",
       "\n",
       "     Fantasy  War  ...    Romance  Family  Biography  History  Musical  \\\n",
       "34         0    0  ...          0       0          1        1        0   \n",
       "56         0    0  ...          0       0          0        0        0   \n",
       "68         0    0  ...          0       0          0        0        0   \n",
       "100        0    0  ...          0       0          1        0        0   \n",
       "103        1    0  ...          0       0          0        0        0   \n",
       "\n",
       "     Sci-Fi  Music  Animation  Adventure  Sport  \n",
       "34        0      0          0          0      0  \n",
       "56        0      0          0          0      0  \n",
       "68        0      0          0          0      0  \n",
       "100       0      0          0          0      1  \n",
       "103       0      0          0          1      0  \n",
       "\n",
       "[5 rows x 22 columns]"
      ]
     },
     "execution_count": 398,
     "metadata": {},
     "output_type": "execute_result"
    }
   ],
   "source": [
    "X = data[feature_cols]\n",
    "X.head(5)"
   ]
  },
  {
   "cell_type": "code",
   "execution_count": 399,
   "metadata": {
    "collapsed": false
   },
   "outputs": [
    {
     "data": {
      "text/plain": [
       "False"
      ]
     },
     "execution_count": 399,
     "metadata": {},
     "output_type": "execute_result"
    }
   ],
   "source": [
    "data.isnull().any().any()"
   ]
  },
  {
   "cell_type": "code",
   "execution_count": 400,
   "metadata": {
    "collapsed": false
   },
   "outputs": [],
   "source": [
    "y = data.Review * 10 - data.Metascore"
   ]
  },
  {
   "cell_type": "code",
   "execution_count": 401,
   "metadata": {
    "collapsed": false
   },
   "outputs": [
    {
     "name": "stdout",
     "output_type": "stream",
     "text": [
      "<class 'pandas.core.series.Series'>\n"
     ]
    },
    {
     "data": {
      "text/plain": [
       "34    -16\n",
       "56     13\n",
       "68     25\n",
       "100    13\n",
       "103    35\n",
       "dtype: float64"
      ]
     },
     "execution_count": 401,
     "metadata": {},
     "output_type": "execute_result"
    }
   ],
   "source": [
    "print type(y)\n",
    "y.head(5)"
   ]
  },
  {
   "cell_type": "code",
   "execution_count": 402,
   "metadata": {
    "collapsed": false
   },
   "outputs": [
    {
     "data": {
      "text/html": [
       "<div>\n",
       "<table border=\"1\" class=\"dataframe\">\n",
       "  <thead>\n",
       "    <tr style=\"text-align: right;\">\n",
       "      <th></th>\n",
       "      <th>Rating</th>\n",
       "      <th>Review</th>\n",
       "      <th>Metascore</th>\n",
       "      <th>Budget</th>\n",
       "      <th>Biography</th>\n",
       "      <th>Drama</th>\n",
       "      <th>History</th>\n",
       "      <th>Action</th>\n",
       "      <th>Comedy</th>\n",
       "      <th>Crime</th>\n",
       "      <th>...</th>\n",
       "      <th>Horror</th>\n",
       "      <th>Romance</th>\n",
       "      <th>Sci-Fi</th>\n",
       "      <th>Music</th>\n",
       "      <th>Animation</th>\n",
       "      <th>Family</th>\n",
       "      <th>Mystery</th>\n",
       "      <th>Musical</th>\n",
       "      <th>War</th>\n",
       "      <th>Western</th>\n",
       "    </tr>\n",
       "  </thead>\n",
       "  <tbody>\n",
       "    <tr>\n",
       "      <th>34</th>\n",
       "      <td>R</td>\n",
       "      <td>8.1</td>\n",
       "      <td>97</td>\n",
       "      <td>20000000</td>\n",
       "      <td>1</td>\n",
       "      <td>1</td>\n",
       "      <td>1</td>\n",
       "      <td>0</td>\n",
       "      <td>0</td>\n",
       "      <td>0</td>\n",
       "      <td>...</td>\n",
       "      <td>0</td>\n",
       "      <td>0</td>\n",
       "      <td>0</td>\n",
       "      <td>0</td>\n",
       "      <td>0</td>\n",
       "      <td>0</td>\n",
       "      <td>0</td>\n",
       "      <td>0</td>\n",
       "      <td>0</td>\n",
       "      <td>0</td>\n",
       "    </tr>\n",
       "    <tr>\n",
       "      <th>56</th>\n",
       "      <td>R</td>\n",
       "      <td>6.8</td>\n",
       "      <td>55</td>\n",
       "      <td>61000000</td>\n",
       "      <td>0</td>\n",
       "      <td>1</td>\n",
       "      <td>0</td>\n",
       "      <td>1</td>\n",
       "      <td>1</td>\n",
       "      <td>1</td>\n",
       "      <td>...</td>\n",
       "      <td>0</td>\n",
       "      <td>0</td>\n",
       "      <td>0</td>\n",
       "      <td>0</td>\n",
       "      <td>0</td>\n",
       "      <td>0</td>\n",
       "      <td>0</td>\n",
       "      <td>0</td>\n",
       "      <td>0</td>\n",
       "      <td>0</td>\n",
       "    </tr>\n",
       "    <tr>\n",
       "      <th>68</th>\n",
       "      <td>R</td>\n",
       "      <td>5.9</td>\n",
       "      <td>34</td>\n",
       "      <td>13000000</td>\n",
       "      <td>0</td>\n",
       "      <td>0</td>\n",
       "      <td>0</td>\n",
       "      <td>0</td>\n",
       "      <td>1</td>\n",
       "      <td>0</td>\n",
       "      <td>...</td>\n",
       "      <td>0</td>\n",
       "      <td>0</td>\n",
       "      <td>0</td>\n",
       "      <td>0</td>\n",
       "      <td>0</td>\n",
       "      <td>0</td>\n",
       "      <td>0</td>\n",
       "      <td>0</td>\n",
       "      <td>0</td>\n",
       "      <td>0</td>\n",
       "    </tr>\n",
       "    <tr>\n",
       "      <th>100</th>\n",
       "      <td>PG-13</td>\n",
       "      <td>7.5</td>\n",
       "      <td>62</td>\n",
       "      <td>40000000</td>\n",
       "      <td>1</td>\n",
       "      <td>1</td>\n",
       "      <td>0</td>\n",
       "      <td>0</td>\n",
       "      <td>0</td>\n",
       "      <td>0</td>\n",
       "      <td>...</td>\n",
       "      <td>0</td>\n",
       "      <td>0</td>\n",
       "      <td>0</td>\n",
       "      <td>0</td>\n",
       "      <td>0</td>\n",
       "      <td>0</td>\n",
       "      <td>0</td>\n",
       "      <td>0</td>\n",
       "      <td>0</td>\n",
       "      <td>0</td>\n",
       "    </tr>\n",
       "    <tr>\n",
       "      <th>103</th>\n",
       "      <td>PG-13</td>\n",
       "      <td>6.3</td>\n",
       "      <td>28</td>\n",
       "      <td>175000000</td>\n",
       "      <td>0</td>\n",
       "      <td>1</td>\n",
       "      <td>0</td>\n",
       "      <td>1</td>\n",
       "      <td>0</td>\n",
       "      <td>0</td>\n",
       "      <td>...</td>\n",
       "      <td>0</td>\n",
       "      <td>0</td>\n",
       "      <td>0</td>\n",
       "      <td>0</td>\n",
       "      <td>0</td>\n",
       "      <td>0</td>\n",
       "      <td>0</td>\n",
       "      <td>0</td>\n",
       "      <td>0</td>\n",
       "      <td>0</td>\n",
       "    </tr>\n",
       "  </tbody>\n",
       "</table>\n",
       "<p>5 rows × 24 columns</p>\n",
       "</div>"
      ],
      "text/plain": [
       "    Rating  Review  Metascore     Budget  Biography  Drama  History  Action  \\\n",
       "34       R     8.1         97   20000000          1      1        1       0   \n",
       "56       R     6.8         55   61000000          0      1        0       1   \n",
       "68       R     5.9         34   13000000          0      0        0       0   \n",
       "100  PG-13     7.5         62   40000000          1      1        0       0   \n",
       "103  PG-13     6.3         28  175000000          0      1        0       1   \n",
       "\n",
       "     Comedy  Crime   ...     Horror  Romance  Sci-Fi  Music  Animation  \\\n",
       "34        0      0   ...          0        0       0      0          0   \n",
       "56        1      1   ...          0        0       0      0          0   \n",
       "68        1      0   ...          0        0       0      0          0   \n",
       "100       0      0   ...          0        0       0      0          0   \n",
       "103       0      0   ...          0        0       0      0          0   \n",
       "\n",
       "     Family  Mystery  Musical  War  Western  \n",
       "34        0        0        0    0        0  \n",
       "56        0        0        0    0        0  \n",
       "68        0        0        0    0        0  \n",
       "100       0        0        0    0        0  \n",
       "103       0        0        0    0        0  \n",
       "\n",
       "[5 rows x 24 columns]"
      ]
     },
     "execution_count": 402,
     "metadata": {},
     "output_type": "execute_result"
    }
   ],
   "source": [
    "data.head()"
   ]
  },
  {
   "cell_type": "code",
   "execution_count": 403,
   "metadata": {
    "collapsed": false
   },
   "outputs": [],
   "source": [
    "data[\"AudienceMinusMetacore\"] = pd.Series(0, index = data.index)\n",
    "data['AudienceMinusMetacore'] = data.Review * 10 - data.Metascore"
   ]
  },
  {
   "cell_type": "code",
   "execution_count": 404,
   "metadata": {
    "collapsed": false
   },
   "outputs": [
    {
     "data": {
      "text/plain": [
       "['Rating',\n",
       " 'Review',\n",
       " 'Metascore',\n",
       " 'Budget',\n",
       " 'Biography',\n",
       " 'Drama',\n",
       " 'History',\n",
       " 'Action',\n",
       " 'Comedy',\n",
       " 'Crime',\n",
       " 'Thriller',\n",
       " 'Sport',\n",
       " 'Adventure',\n",
       " 'Fantasy',\n",
       " 'Horror',\n",
       " 'Romance',\n",
       " 'Sci-Fi',\n",
       " 'Music',\n",
       " 'Animation',\n",
       " 'Family',\n",
       " 'Mystery',\n",
       " 'Musical',\n",
       " 'War',\n",
       " 'Western',\n",
       " 'AudienceMinusMetacore']"
      ]
     },
     "execution_count": 404,
     "metadata": {},
     "output_type": "execute_result"
    }
   ],
   "source": [
    "data.columns.values.tolist()"
   ]
  },
  {
   "cell_type": "code",
   "execution_count": 405,
   "metadata": {
    "collapsed": false
   },
   "outputs": [
    {
     "data": {
      "text/html": [
       "<div>\n",
       "<table border=\"1\" class=\"dataframe\">\n",
       "  <thead>\n",
       "    <tr style=\"text-align: right;\">\n",
       "      <th></th>\n",
       "      <th>Rating</th>\n",
       "      <th>Budget</th>\n",
       "      <th>Biography</th>\n",
       "      <th>Drama</th>\n",
       "      <th>History</th>\n",
       "      <th>Action</th>\n",
       "      <th>Comedy</th>\n",
       "      <th>Crime</th>\n",
       "      <th>Thriller</th>\n",
       "      <th>Sport</th>\n",
       "      <th>...</th>\n",
       "      <th>Romance</th>\n",
       "      <th>Sci-Fi</th>\n",
       "      <th>Music</th>\n",
       "      <th>Animation</th>\n",
       "      <th>Family</th>\n",
       "      <th>Mystery</th>\n",
       "      <th>Musical</th>\n",
       "      <th>War</th>\n",
       "      <th>Western</th>\n",
       "      <th>AudienceMinusMetacore</th>\n",
       "    </tr>\n",
       "  </thead>\n",
       "  <tbody>\n",
       "    <tr>\n",
       "      <th>34</th>\n",
       "      <td>R</td>\n",
       "      <td>20000000</td>\n",
       "      <td>1</td>\n",
       "      <td>1</td>\n",
       "      <td>1</td>\n",
       "      <td>0</td>\n",
       "      <td>0</td>\n",
       "      <td>0</td>\n",
       "      <td>0</td>\n",
       "      <td>0</td>\n",
       "      <td>...</td>\n",
       "      <td>0</td>\n",
       "      <td>0</td>\n",
       "      <td>0</td>\n",
       "      <td>0</td>\n",
       "      <td>0</td>\n",
       "      <td>0</td>\n",
       "      <td>0</td>\n",
       "      <td>0</td>\n",
       "      <td>0</td>\n",
       "      <td>-16</td>\n",
       "    </tr>\n",
       "    <tr>\n",
       "      <th>56</th>\n",
       "      <td>R</td>\n",
       "      <td>61000000</td>\n",
       "      <td>0</td>\n",
       "      <td>1</td>\n",
       "      <td>0</td>\n",
       "      <td>1</td>\n",
       "      <td>1</td>\n",
       "      <td>1</td>\n",
       "      <td>1</td>\n",
       "      <td>0</td>\n",
       "      <td>...</td>\n",
       "      <td>0</td>\n",
       "      <td>0</td>\n",
       "      <td>0</td>\n",
       "      <td>0</td>\n",
       "      <td>0</td>\n",
       "      <td>0</td>\n",
       "      <td>0</td>\n",
       "      <td>0</td>\n",
       "      <td>0</td>\n",
       "      <td>13</td>\n",
       "    </tr>\n",
       "    <tr>\n",
       "      <th>68</th>\n",
       "      <td>R</td>\n",
       "      <td>13000000</td>\n",
       "      <td>0</td>\n",
       "      <td>0</td>\n",
       "      <td>0</td>\n",
       "      <td>0</td>\n",
       "      <td>1</td>\n",
       "      <td>0</td>\n",
       "      <td>0</td>\n",
       "      <td>0</td>\n",
       "      <td>...</td>\n",
       "      <td>0</td>\n",
       "      <td>0</td>\n",
       "      <td>0</td>\n",
       "      <td>0</td>\n",
       "      <td>0</td>\n",
       "      <td>0</td>\n",
       "      <td>0</td>\n",
       "      <td>0</td>\n",
       "      <td>0</td>\n",
       "      <td>25</td>\n",
       "    </tr>\n",
       "    <tr>\n",
       "      <th>100</th>\n",
       "      <td>PG-13</td>\n",
       "      <td>40000000</td>\n",
       "      <td>1</td>\n",
       "      <td>1</td>\n",
       "      <td>0</td>\n",
       "      <td>0</td>\n",
       "      <td>0</td>\n",
       "      <td>0</td>\n",
       "      <td>0</td>\n",
       "      <td>1</td>\n",
       "      <td>...</td>\n",
       "      <td>0</td>\n",
       "      <td>0</td>\n",
       "      <td>0</td>\n",
       "      <td>0</td>\n",
       "      <td>0</td>\n",
       "      <td>0</td>\n",
       "      <td>0</td>\n",
       "      <td>0</td>\n",
       "      <td>0</td>\n",
       "      <td>13</td>\n",
       "    </tr>\n",
       "    <tr>\n",
       "      <th>103</th>\n",
       "      <td>PG-13</td>\n",
       "      <td>175000000</td>\n",
       "      <td>0</td>\n",
       "      <td>1</td>\n",
       "      <td>0</td>\n",
       "      <td>1</td>\n",
       "      <td>0</td>\n",
       "      <td>0</td>\n",
       "      <td>0</td>\n",
       "      <td>0</td>\n",
       "      <td>...</td>\n",
       "      <td>0</td>\n",
       "      <td>0</td>\n",
       "      <td>0</td>\n",
       "      <td>0</td>\n",
       "      <td>0</td>\n",
       "      <td>0</td>\n",
       "      <td>0</td>\n",
       "      <td>0</td>\n",
       "      <td>0</td>\n",
       "      <td>35</td>\n",
       "    </tr>\n",
       "    <tr>\n",
       "      <th>199</th>\n",
       "      <td>R</td>\n",
       "      <td>92000000</td>\n",
       "      <td>0</td>\n",
       "      <td>0</td>\n",
       "      <td>0</td>\n",
       "      <td>1</td>\n",
       "      <td>0</td>\n",
       "      <td>1</td>\n",
       "      <td>1</td>\n",
       "      <td>0</td>\n",
       "      <td>...</td>\n",
       "      <td>0</td>\n",
       "      <td>0</td>\n",
       "      <td>0</td>\n",
       "      <td>0</td>\n",
       "      <td>0</td>\n",
       "      <td>0</td>\n",
       "      <td>0</td>\n",
       "      <td>0</td>\n",
       "      <td>0</td>\n",
       "      <td>25</td>\n",
       "    </tr>\n",
       "    <tr>\n",
       "      <th>206</th>\n",
       "      <td>R</td>\n",
       "      <td>2000000</td>\n",
       "      <td>0</td>\n",
       "      <td>0</td>\n",
       "      <td>0</td>\n",
       "      <td>0</td>\n",
       "      <td>1</td>\n",
       "      <td>0</td>\n",
       "      <td>0</td>\n",
       "      <td>0</td>\n",
       "      <td>...</td>\n",
       "      <td>0</td>\n",
       "      <td>0</td>\n",
       "      <td>0</td>\n",
       "      <td>0</td>\n",
       "      <td>0</td>\n",
       "      <td>0</td>\n",
       "      <td>0</td>\n",
       "      <td>0</td>\n",
       "      <td>0</td>\n",
       "      <td>31</td>\n",
       "    </tr>\n",
       "    <tr>\n",
       "      <th>247</th>\n",
       "      <td>R</td>\n",
       "      <td>5000000</td>\n",
       "      <td>0</td>\n",
       "      <td>1</td>\n",
       "      <td>0</td>\n",
       "      <td>0</td>\n",
       "      <td>0</td>\n",
       "      <td>0</td>\n",
       "      <td>0</td>\n",
       "      <td>0</td>\n",
       "      <td>...</td>\n",
       "      <td>0</td>\n",
       "      <td>0</td>\n",
       "      <td>0</td>\n",
       "      <td>0</td>\n",
       "      <td>0</td>\n",
       "      <td>0</td>\n",
       "      <td>0</td>\n",
       "      <td>0</td>\n",
       "      <td>0</td>\n",
       "      <td>21</td>\n",
       "    </tr>\n",
       "    <tr>\n",
       "      <th>382</th>\n",
       "      <td>PG-13</td>\n",
       "      <td>13000000</td>\n",
       "      <td>0</td>\n",
       "      <td>1</td>\n",
       "      <td>0</td>\n",
       "      <td>0</td>\n",
       "      <td>1</td>\n",
       "      <td>0</td>\n",
       "      <td>0</td>\n",
       "      <td>0</td>\n",
       "      <td>...</td>\n",
       "      <td>1</td>\n",
       "      <td>0</td>\n",
       "      <td>0</td>\n",
       "      <td>0</td>\n",
       "      <td>0</td>\n",
       "      <td>0</td>\n",
       "      <td>0</td>\n",
       "      <td>0</td>\n",
       "      <td>0</td>\n",
       "      <td>9</td>\n",
       "    </tr>\n",
       "    <tr>\n",
       "      <th>384</th>\n",
       "      <td>R</td>\n",
       "      <td>16000000</td>\n",
       "      <td>0</td>\n",
       "      <td>1</td>\n",
       "      <td>0</td>\n",
       "      <td>0</td>\n",
       "      <td>0</td>\n",
       "      <td>0</td>\n",
       "      <td>0</td>\n",
       "      <td>0</td>\n",
       "      <td>...</td>\n",
       "      <td>1</td>\n",
       "      <td>0</td>\n",
       "      <td>0</td>\n",
       "      <td>0</td>\n",
       "      <td>0</td>\n",
       "      <td>0</td>\n",
       "      <td>0</td>\n",
       "      <td>0</td>\n",
       "      <td>0</td>\n",
       "      <td>25</td>\n",
       "    </tr>\n",
       "  </tbody>\n",
       "</table>\n",
       "<p>10 rows × 23 columns</p>\n",
       "</div>"
      ],
      "text/plain": [
       "    Rating     Budget  Biography  Drama  History  Action  Comedy  Crime  \\\n",
       "34       R   20000000          1      1        1       0       0      0   \n",
       "56       R   61000000          0      1        0       1       1      1   \n",
       "68       R   13000000          0      0        0       0       1      0   \n",
       "100  PG-13   40000000          1      1        0       0       0      0   \n",
       "103  PG-13  175000000          0      1        0       1       0      0   \n",
       "199      R   92000000          0      0        0       1       0      1   \n",
       "206      R    2000000          0      0        0       0       1      0   \n",
       "247      R    5000000          0      1        0       0       0      0   \n",
       "382  PG-13   13000000          0      1        0       0       1      0   \n",
       "384      R   16000000          0      1        0       0       0      0   \n",
       "\n",
       "     Thriller  Sport          ...            Romance  Sci-Fi  Music  \\\n",
       "34          0      0          ...                  0       0      0   \n",
       "56          1      0          ...                  0       0      0   \n",
       "68          0      0          ...                  0       0      0   \n",
       "100         0      1          ...                  0       0      0   \n",
       "103         0      0          ...                  0       0      0   \n",
       "199         1      0          ...                  0       0      0   \n",
       "206         0      0          ...                  0       0      0   \n",
       "247         0      0          ...                  0       0      0   \n",
       "382         0      0          ...                  1       0      0   \n",
       "384         0      0          ...                  1       0      0   \n",
       "\n",
       "     Animation  Family  Mystery  Musical  War  Western  AudienceMinusMetacore  \n",
       "34           0       0        0        0    0        0                    -16  \n",
       "56           0       0        0        0    0        0                     13  \n",
       "68           0       0        0        0    0        0                     25  \n",
       "100          0       0        0        0    0        0                     13  \n",
       "103          0       0        0        0    0        0                     35  \n",
       "199          0       0        0        0    0        0                     25  \n",
       "206          0       0        0        0    0        0                     31  \n",
       "247          0       0        0        0    0        0                     21  \n",
       "382          0       0        0        0    0        0                      9  \n",
       "384          0       0        0        0    0        0                     25  \n",
       "\n",
       "[10 rows x 23 columns]"
      ]
     },
     "execution_count": 405,
     "metadata": {},
     "output_type": "execute_result"
    }
   ],
   "source": [
    "datanew = data.drop('Review', 1)\n",
    "datanew = datanew.drop('Metascore', 1)\n",
    "datanew.head(10)"
   ]
  },
  {
   "cell_type": "code",
   "execution_count": 406,
   "metadata": {
    "collapsed": false
   },
   "outputs": [
    {
     "data": {
      "text/plain": [
       "['Rating',\n",
       " 'Budget',\n",
       " 'Biography',\n",
       " 'Drama',\n",
       " 'History',\n",
       " 'Action',\n",
       " 'Comedy',\n",
       " 'Crime',\n",
       " 'Thriller',\n",
       " 'Sport',\n",
       " 'Adventure',\n",
       " 'Fantasy',\n",
       " 'Horror',\n",
       " 'Romance',\n",
       " 'Sci-Fi',\n",
       " 'Music',\n",
       " 'Animation',\n",
       " 'Family',\n",
       " 'Mystery',\n",
       " 'Musical',\n",
       " 'War',\n",
       " 'Western',\n",
       " 'AudienceMinusMetacore']"
      ]
     },
     "execution_count": 406,
     "metadata": {},
     "output_type": "execute_result"
    }
   ],
   "source": [
    "datanew.columns.values.tolist()"
   ]
  },
  {
   "cell_type": "code",
   "execution_count": 407,
   "metadata": {
    "collapsed": false
   },
   "outputs": [
    {
     "data": {
      "text/plain": [
       "False"
      ]
     },
     "execution_count": 407,
     "metadata": {},
     "output_type": "execute_result"
    }
   ],
   "source": [
    "datanew.isnull().any().any()"
   ]
  },
  {
   "cell_type": "code",
   "execution_count": 408,
   "metadata": {
    "collapsed": true
   },
   "outputs": [],
   "source": [
    "yregress = datanew['AudienceMinusMetacore']"
   ]
  },
  {
   "cell_type": "code",
   "execution_count": 409,
   "metadata": {
    "collapsed": true
   },
   "outputs": [],
   "source": [
    "xregress = datanew.drop('AudienceMinusMetacore', 1)\n",
    "xregress[\"G\"] = pd.Series(0, index = xregress.index)\n",
    "xregress[\"PG-13\"] = pd.Series(0, index = xregress.index)\n",
    "xregress[\"PG\"] = pd.Series(0, index = xregress.index)\n",
    "xregress[\"R\"] = pd.Series(0, index = xregress.index)"
   ]
  },
  {
   "cell_type": "code",
   "execution_count": 410,
   "metadata": {
    "collapsed": false
   },
   "outputs": [
    {
     "data": {
      "text/plain": [
       "False"
      ]
     },
     "execution_count": 410,
     "metadata": {},
     "output_type": "execute_result"
    }
   ],
   "source": [
    "yregress.isnull().any().any()"
   ]
  },
  {
   "cell_type": "code",
   "execution_count": 487,
   "metadata": {
    "collapsed": false
   },
   "outputs": [
    {
     "data": {
      "text/plain": [
       "(12.737704918032787, 12.112805368544887, 44.0, -20.0)"
      ]
     },
     "execution_count": 487,
     "metadata": {},
     "output_type": "execute_result"
    }
   ],
   "source": [
    "yregress.mean(), yregress.std(), yregress.max(), yregress.min()"
   ]
  },
  {
   "cell_type": "code",
   "execution_count": 412,
   "metadata": {
    "collapsed": false
   },
   "outputs": [
    {
     "data": {
      "text/plain": [
       "['Rating',\n",
       " 'Budget',\n",
       " 'Biography',\n",
       " 'Drama',\n",
       " 'History',\n",
       " 'Action',\n",
       " 'Comedy',\n",
       " 'Crime',\n",
       " 'Thriller',\n",
       " 'Sport',\n",
       " 'Adventure',\n",
       " 'Fantasy',\n",
       " 'Horror',\n",
       " 'Romance',\n",
       " 'Sci-Fi',\n",
       " 'Music',\n",
       " 'Animation',\n",
       " 'Family',\n",
       " 'Mystery',\n",
       " 'Musical',\n",
       " 'War',\n",
       " 'Western',\n",
       " 'G',\n",
       " 'PG-13',\n",
       " 'PG',\n",
       " 'R']"
      ]
     },
     "execution_count": 412,
     "metadata": {},
     "output_type": "execute_result"
    }
   ],
   "source": [
    "xregress.columns.values.tolist()"
   ]
  },
  {
   "cell_type": "code",
   "execution_count": 413,
   "metadata": {
    "collapsed": false
   },
   "outputs": [],
   "source": [
    "xregress = xregress.replace(to_replace='PG-', value='PG-13')"
   ]
  },
  {
   "cell_type": "code",
   "execution_count": 414,
   "metadata": {
    "collapsed": false
   },
   "outputs": [],
   "source": [
    "for index, row in xregress.iterrows():\n",
    "    xregress.set_value(index, row['Rating'], 1.0)"
   ]
  },
  {
   "cell_type": "code",
   "execution_count": 415,
   "metadata": {
    "collapsed": false
   },
   "outputs": [],
   "source": [
    "xregress = xregress.drop('Rating', 1)"
   ]
  },
  {
   "cell_type": "code",
   "execution_count": 416,
   "metadata": {
    "collapsed": false
   },
   "outputs": [
    {
     "data": {
      "text/plain": [
       "<bound method DataFrame.head of           Budget  Biography  Drama  History  Action  Comedy  Crime  Thriller  \\\n",
       "34      20000000          1      1        1       0       0      0         0   \n",
       "56      61000000          0      1        0       1       1      1         1   \n",
       "68      13000000          0      0        0       0       1      0         0   \n",
       "100     40000000          1      1        0       0       0      0         0   \n",
       "103    175000000          0      1        0       1       0      0         0   \n",
       "199     92000000          0      0        0       1       0      1         1   \n",
       "206      2000000          0      0        0       0       1      0         0   \n",
       "247      5000000          0      1        0       0       0      0         0   \n",
       "382     13000000          0      1        0       0       1      0         0   \n",
       "384     16000000          0      1        0       0       0      0         0   \n",
       "398    130000000          0      0        0       1       0      0         0   \n",
       "481      9000000          0      1        0       1       0      0         0   \n",
       "537     40000000          0      1        0       0       0      1         0   \n",
       "586     50000000          0      0        0       0       1      0         0   \n",
       "743      2500000          0      0        0       0       1      0         0   \n",
       "760     25000000          0      1        0       0       0      0         0   \n",
       "840      9500000          0      1        0       0       1      0         0   \n",
       "845      8500000          0      0        0       0       1      0         0   \n",
       "875       950000          0      0        0       0       0      0         1   \n",
       "901     20000000          0      0        0       0       0      0         0   \n",
       "912     60000000          0      1        0       0       0      0         0   \n",
       "954     10900000          0      1        0       0       0      0         0   \n",
       "1095    25500000          0      1        0       0       0      1         1   \n",
       "1121    18000000          0      1        0       0       0      0         0   \n",
       "1224    35000000          0      1        0       0       0      1         1   \n",
       "1297     5000000          0      1        0       0       0      0         0   \n",
       "1336    55000000          1      1        0       0       0      0         1   \n",
       "1353    30000000          0      1        0       0       0      0         0   \n",
       "1634    12000000          0      1        0       0       0      0         0   \n",
       "1755     5000000          1      1        0       0       0      0         0   \n",
       "...          ...        ...    ...      ...     ...     ...    ...       ...   \n",
       "16464   70000000          0      0        0       1       0      0         0   \n",
       "16467   60000000          0      0        0       0       1      0         0   \n",
       "16492   14000000          0      0        0       0       0      0         1   \n",
       "16538   34000000          0      0        0       1       0      0         1   \n",
       "16564   70000000          0      1        0       0       0      0         0   \n",
       "16607   42000000          0      0        0       0       1      0         0   \n",
       "16630   40000000          0      0        0       0       1      0         0   \n",
       "16679   18000000          0      0        0       1       0      0         1   \n",
       "16694    9000000          0      0        0       1       0      0         1   \n",
       "16696    6500000          0      0        0       0       0      0         1   \n",
       "16753   12250000          0      1        0       0       0      1         0   \n",
       "16799    4000000          0      0        0       0       0      0         1   \n",
       "16810    1000000          0      1        0       0       0      0         1   \n",
       "16878   15000000          1      1        0       0       0      0         0   \n",
       "16953   22500000          0      1        0       0       0      0         0   \n",
       "17037   24000000          0      0        0       0       1      0         0   \n",
       "17051   19800000          0      1        0       0       1      0         0   \n",
       "17222  100000000          0      1        0       0       0      0         1   \n",
       "17223  210000000          0      0        0       1       0      0         0   \n",
       "17282    2800000          0      1        0       0       1      0         0   \n",
       "17366   65000000          1      1        0       0       0      0         0   \n",
       "17397    1000000          0      0        0       0       0      0         1   \n",
       "17511    6000000          0      1        0       0       0      1         1   \n",
       "17722   15000000          0      1        0       0       0      0         0   \n",
       "17741   10000000          0      1        0       0       1      0         0   \n",
       "17742    3300000          0      1        0       0       0      0         0   \n",
       "17793   60000000          0      1        0       0       0      0         0   \n",
       "17800    6000000          0      1        0       0       1      0         0   \n",
       "17819   18000000          0      0        0       1       0      0         0   \n",
       "17852  200000000          0      0        0       1       0      0         1   \n",
       "\n",
       "       Sport  Adventure ...  Animation  Family  Mystery  Musical  War  \\\n",
       "34         0          0 ...          0       0        0        0    0   \n",
       "56         0          0 ...          0       0        0        0    0   \n",
       "68         0          0 ...          0       0        0        0    0   \n",
       "100        1          0 ...          0       0        0        0    0   \n",
       "103        0          1 ...          0       0        0        0    0   \n",
       "199        0          0 ...          0       0        0        0    0   \n",
       "206        0          0 ...          0       0        0        0    0   \n",
       "247        0          0 ...          0       0        0        0    0   \n",
       "382        0          0 ...          0       0        0        0    0   \n",
       "384        0          0 ...          0       0        0        0    0   \n",
       "398        0          1 ...          0       0        0        0    0   \n",
       "481        0          1 ...          0       0        0        0    0   \n",
       "537        0          0 ...          0       0        0        0    0   \n",
       "586        0          0 ...          0       0        0        0    0   \n",
       "743        0          0 ...          0       0        0        0    0   \n",
       "760        0          0 ...          0       0        0        0    0   \n",
       "840        0          0 ...          0       0        0        0    0   \n",
       "845        0          0 ...          0       0        0        0    0   \n",
       "875        0          0 ...          0       0        0        0    0   \n",
       "901        0          0 ...          0       0        0        0    0   \n",
       "912        0          0 ...          0       0        0        0    0   \n",
       "954        0          0 ...          0       0        0        0    0   \n",
       "1095       0          0 ...          0       0        0        0    0   \n",
       "1121       0          0 ...          0       0        0        0    0   \n",
       "1224       0          0 ...          0       0        0        0    0   \n",
       "1297       0          0 ...          0       0        0        0    0   \n",
       "1336       0          0 ...          0       0        0        0    0   \n",
       "1353       0          0 ...          0       0        0        0    0   \n",
       "1634       0          0 ...          0       0        0        0    0   \n",
       "1755       0          0 ...          0       0        0        0    0   \n",
       "...      ...        ... ...        ...     ...      ...      ...  ...   \n",
       "16464      0          1 ...          0       0        0        0    0   \n",
       "16467      0          1 ...          1       1        0        0    0   \n",
       "16492      0          0 ...          0       0        1        0    0   \n",
       "16538      0          0 ...          0       0        1        0    0   \n",
       "16564      0          0 ...          0       0        0        0    1   \n",
       "16607      0          1 ...          1       1        0        0    0   \n",
       "16630      0          0 ...          0       0        0        0    0   \n",
       "16679      0          0 ...          0       0        0        0    0   \n",
       "16694      0          0 ...          0       0        0        0    0   \n",
       "16696      0          0 ...          0       0        0        0    0   \n",
       "16753      0          0 ...          0       0        0        0    0   \n",
       "16799      0          0 ...          0       0        0        0    0   \n",
       "16810      0          0 ...          0       0        1        0    0   \n",
       "16878      0          0 ...          0       0        0        0    0   \n",
       "16953      0          0 ...          0       0        0        0    1   \n",
       "17037      0          0 ...          0       0        0        0    0   \n",
       "17051      0          0 ...          0       0        0        0    0   \n",
       "17222      0          0 ...          0       0        1        0    0   \n",
       "17223      0          1 ...          0       0        0        0    0   \n",
       "17282      0          0 ...          0       0        0        0    0   \n",
       "17366      1          0 ...          0       0        0        0    1   \n",
       "17397      0          0 ...          0       0        0        0    0   \n",
       "17511      0          0 ...          0       0        1        0    0   \n",
       "17722      1          0 ...          0       0        0        0    0   \n",
       "17741      0          0 ...          0       0        0        0    0   \n",
       "17742      0          0 ...          0       0        0        0    0   \n",
       "17793      0          0 ...          0       0        1        0    0   \n",
       "17800      0          0 ...          0       0        0        0    0   \n",
       "17819      0          0 ...          0       0        0        0    0   \n",
       "17852      0          1 ...          0       0        0        0    0   \n",
       "\n",
       "       Western  G  PG-13  PG  R  \n",
       "34           0  0      0   0  1  \n",
       "56           0  0      0   0  1  \n",
       "68           0  0      0   0  1  \n",
       "100          0  0      1   0  0  \n",
       "103          0  0      1   0  0  \n",
       "199          0  0      0   0  1  \n",
       "206          0  0      0   0  1  \n",
       "247          0  0      0   0  1  \n",
       "382          0  0      1   0  0  \n",
       "384          0  0      0   0  1  \n",
       "398          0  0      1   0  0  \n",
       "481          0  0      1   0  0  \n",
       "537          0  0      0   0  1  \n",
       "586          0  0      0   0  1  \n",
       "743          0  0      0   0  1  \n",
       "760          0  0      0   0  1  \n",
       "840          0  0      0   0  1  \n",
       "845          0  0      1   0  0  \n",
       "875          0  0      0   0  1  \n",
       "901          0  0      1   0  0  \n",
       "912          0  0      1   0  0  \n",
       "954          0  0      0   1  0  \n",
       "1095         0  0      0   0  1  \n",
       "1121         0  0      1   0  0  \n",
       "1224         0  0      0   0  1  \n",
       "1297         0  0      0   0  1  \n",
       "1336         0  0      1   0  0  \n",
       "1353         0  0      0   0  1  \n",
       "1634         0  0      1   0  0  \n",
       "1755         0  0      0   0  1  \n",
       "...        ... ..    ...  .. ..  \n",
       "16464        0  0      1   0  0  \n",
       "16467        0  0      0   1  0  \n",
       "16492        0  0      0   0  1  \n",
       "16538        0  0      1   0  0  \n",
       "16564        0  0      1   0  0  \n",
       "16607        0  0      0   1  0  \n",
       "16630        0  0      1   0  0  \n",
       "16679        0  0      0   0  1  \n",
       "16694        0  0      0   0  1  \n",
       "16696        0  0      0   0  1  \n",
       "16753        0  0      0   0  1  \n",
       "16799        0  0      1   0  0  \n",
       "16810        0  0      1   0  0  \n",
       "16878        0  0      1   0  0  \n",
       "16953        0  0      0   0  1  \n",
       "17037        0  0      1   0  0  \n",
       "17051        0  0      0   0  1  \n",
       "17222        0  0      1   0  0  \n",
       "17223        0  0      1   0  0  \n",
       "17282        0  0      0   0  1  \n",
       "17366        0  0      1   0  0  \n",
       "17397        0  0      0   0  1  \n",
       "17511        0  0      1   0  0  \n",
       "17722        0  0      0   1  0  \n",
       "17741        0  0      0   0  1  \n",
       "17742        0  0      0   0  1  \n",
       "17793        0  0      1   0  0  \n",
       "17800        0  0      0   0  1  \n",
       "17819        0  0      0   0  1  \n",
       "17852        0  0      1   0  0  \n",
       "\n",
       "[366 rows x 25 columns]>"
      ]
     },
     "execution_count": 416,
     "metadata": {},
     "output_type": "execute_result"
    }
   ],
   "source": [
    "xregress.head"
   ]
  },
  {
   "cell_type": "code",
   "execution_count": 480,
   "metadata": {
    "collapsed": false
   },
   "outputs": [
    {
     "data": {
      "text/plain": [
       "dtype('float64')"
      ]
     },
     "execution_count": 480,
     "metadata": {},
     "output_type": "execute_result"
    }
   ],
   "source": [
    "yregress.dtype"
   ]
  },
  {
   "cell_type": "code",
   "execution_count": 418,
   "metadata": {
    "collapsed": false
   },
   "outputs": [
    {
     "name": "stdout",
     "output_type": "stream",
     "text": [
      "<class 'pandas.core.series.Series'>\n"
     ]
    }
   ],
   "source": [
    "print type(yregress)"
   ]
  },
  {
   "cell_type": "code",
   "execution_count": 419,
   "metadata": {
    "collapsed": false
   },
   "outputs": [
    {
     "data": {
      "text/plain": [
       "False"
      ]
     },
     "execution_count": 419,
     "metadata": {},
     "output_type": "execute_result"
    }
   ],
   "source": [
    "yregress.isnull().any().any()"
   ]
  },
  {
   "cell_type": "code",
   "execution_count": 488,
   "metadata": {
    "collapsed": false
   },
   "outputs": [
    {
     "name": "stdout",
     "output_type": "stream",
     "text": [
      "(274, 25) (92, 25) (274,) (92,)\n"
     ]
    }
   ],
   "source": [
    "from sklearn import datasets, linear_model\n",
    "from sklearn.cross_validation import train_test_split\n",
    "X_train, X_test, Y_train, Y_test = train_test_split(xregress, yregress, random_state=1)\n",
    "\n",
    "print X_train.shape, X_test.shape, Y_train.shape, Y_test.shape"
   ]
  },
  {
   "cell_type": "code",
   "execution_count": 489,
   "metadata": {
    "collapsed": true
   },
   "outputs": [],
   "source": [
    "linreg = linear_model.LinearRegression()"
   ]
  },
  {
   "cell_type": "code",
   "execution_count": 490,
   "metadata": {
    "collapsed": false
   },
   "outputs": [
    {
     "data": {
      "text/plain": [
       "LinearRegression(copy_X=True, fit_intercept=True, n_jobs=1, normalize=False)"
      ]
     },
     "execution_count": 490,
     "metadata": {},
     "output_type": "execute_result"
    }
   ],
   "source": [
    "linreg.fit(X_train, Y_train) # do i need to normalize budget?"
   ]
  },
  {
   "cell_type": "code",
   "execution_count": 491,
   "metadata": {
    "collapsed": false
   },
   "outputs": [
    {
     "name": "stdout",
     "output_type": "stream",
     "text": [
      "15.8859389731\n",
      "[ -6.06674532e-09  -6.13924797e+00  -3.96574929e+00  -2.08494860e+00\n",
      "   2.77493261e+00   1.03440266e+00   2.83345329e+00   7.07766242e-03\n",
      "   4.39487867e+00  -4.78118057e-01   8.15228598e-01   8.66419416e-04\n",
      "   1.74791093e+00  -6.05110990e+00   3.70946156e+00  -3.38477186e+00\n",
      "  -2.21201562e+00  -3.20633730e+00  -5.20516504e+00   5.56598706e+00\n",
      "   2.05512447e+00   6.07158013e-16   1.71251995e+00   3.41602516e+00\n",
      "  -5.12854511e+00]\n"
     ]
    }
   ],
   "source": [
    "print linreg.intercept_\n",
    "print linreg.coef_"
   ]
  },
  {
   "cell_type": "code",
   "execution_count": 492,
   "metadata": {
    "collapsed": false
   },
   "outputs": [
    {
     "data": {
      "text/plain": [
       "[('Budget', -6.0667453160225651e-09),\n",
       " ('Biography', -6.1392479731515639),\n",
       " ('Drama', -3.9657492870674833),\n",
       " ('History', -2.0849486034017621),\n",
       " ('Action', 2.7749326139791419),\n",
       " ('Comedy', 1.0344026586010702),\n",
       " ('Crime', 2.8334532928170515),\n",
       " ('Thriller', 0.0070776624160306945),\n",
       " ('Sport', 4.3948786680373164),\n",
       " ('Adventure', -0.47811805741116187),\n",
       " ('Fantasy', 0.81522859808494741),\n",
       " ('Horror', 0.0008664194162391059),\n",
       " ('Romance', 1.7479109348573161),\n",
       " ('Sci-Fi', -6.0511099021219268),\n",
       " ('Music', 3.7094615575186127),\n",
       " ('Animation', -3.384771863302602),\n",
       " ('Family', -2.2120156192578309),\n",
       " ('Mystery', -3.2063372981725711),\n",
       " ('Musical', -5.2051650444779876),\n",
       " ('War', 5.5659870567114851),\n",
       " ('Western', 2.0551244673176465),\n",
       " ('G', 6.0715801288655136e-16),\n",
       " ('PG-13', 1.7125199462145388),\n",
       " ('PG', 3.416025161289495),\n",
       " ('R', -5.1285451075040394)]"
      ]
     },
     "execution_count": 492,
     "metadata": {},
     "output_type": "execute_result"
    }
   ],
   "source": [
    "zip(xregress.columns.values.tolist(), linreg.coef_)"
   ]
  },
  {
   "cell_type": "code",
   "execution_count": 493,
   "metadata": {
    "collapsed": true
   },
   "outputs": [],
   "source": [
    "y_pred_test = linreg.predict(X_test)"
   ]
  },
  {
   "cell_type": "code",
   "execution_count": 494,
   "metadata": {
    "collapsed": false
   },
   "outputs": [],
   "source": [
    "y_pred_train = linreg.predict(X_train)"
   ]
  },
  {
   "cell_type": "code",
   "execution_count": 495,
   "metadata": {
    "collapsed": false
   },
   "outputs": [
    {
     "name": "stdout",
     "output_type": "stream",
     "text": [
      "3.18000184651\n"
     ]
    }
   ],
   "source": [
    "from sklearn import metrics\n",
    "print np.sqrt( metrics.mean_absolute_error(Y_test, y_pred_test) )"
   ]
  },
  {
   "cell_type": "code",
   "execution_count": 496,
   "metadata": {
    "collapsed": false
   },
   "outputs": [
    {
     "name": "stdout",
     "output_type": "stream",
     "text": [
      "2.94132744191\n"
     ]
    }
   ],
   "source": [
    "print np.sqrt( metrics.mean_absolute_error(Y_train, y_pred_train) )"
   ]
  },
  {
   "cell_type": "code",
   "execution_count": 497,
   "metadata": {
    "collapsed": true
   },
   "outputs": [],
   "source": [
    "#X_train, X_test, Y_train, Y_test"
   ]
  },
  {
   "cell_type": "code",
   "execution_count": 498,
   "metadata": {
    "collapsed": false
   },
   "outputs": [
    {
     "name": "stdout",
     "output_type": "stream",
     "text": [
      "Train Variance score: 0.16\n",
      "Test Variance score: 0.03\n"
     ]
    },
    {
     "data": {
      "image/png": "[encoded data removed]",
      "text/plain": [
       "<matplotlib.figure.Figure at 0x11bb23950>"
      ]
     },
     "metadata": {},
     "output_type": "display_data"
    }
   ],
   "source": [
    "# Explained variance score: 1 is perfect prediction\n",
    "print('Train Variance score: %.2f' % linreg.score(X_train, Y_train))\n",
    "print('Test Variance score: %.2f' % linreg.score(X_test, Y_test))\n",
    "\n",
    "# Plot outputs\n",
    "plt.scatter(linreg.predict(X_test), Y_test,  color='black')\n",
    "plt.scatter(linreg.predict(X_train), Y_train,  color='red')\n",
    "plt.title('Audience - Metascore Rating')\n",
    "plt.xlabel('Predicted')\n",
    "plt.ylabel('Actual')\n",
    "\n",
    "\n",
    "#plt.plot(X_test, linreg.predict(X_test), color='blue', linewidth=3)\n",
    "\n",
    "#plt.xticks(())\n",
    "#plt.yticks(())\n",
    "\n",
    "plt.show()"
   ]
  },
  {
   "cell_type": "code",
   "execution_count": 499,
   "metadata": {
    "collapsed": true
   },
   "outputs": [],
   "source": [
    "#cat input1.csv input2.csv input3.csv > combined.csv"
   ]
  },
  {
   "cell_type": "code",
   "execution_count": null,
   "metadata": {
    "collapsed": true
   },
   "outputs": [],
   "source": []
  },
  {
   "cell_type": "code",
   "execution_count": null,
   "metadata": {
    "collapsed": true
   },
   "outputs": [],
   "source": []
  }
 ],
 "metadata": {
  "kernelspec": {
   "display_name": "Python 2",
   "language": "python",
   "name": "python2"
  },
  "language_info": {
   "codemirror_mode": {
    "name": "ipython",
    "version": 2
   },
   "file_extension": ".py",
   "mimetype": "text/x-python",
   "name": "python",
   "nbconvert_exporter": "python",
   "pygments_lexer": "ipython2",
   "version": "2.7.10"
  }
 },
 "nbformat": 4,
 "nbformat_minor": 0
}
